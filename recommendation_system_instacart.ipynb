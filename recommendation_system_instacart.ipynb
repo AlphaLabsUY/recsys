{
  "nbformat": 4,
  "nbformat_minor": 0,
  "metadata": {
    "accelerator": "GPU",
    "colab": {
      "name": "recommendation_system_instacart.ipynb",
      "provenance": [],
      "collapsed_sections": []
    },
    "kernelspec": {
      "display_name": "Python 3",
      "language": "python",
      "name": "python3"
    },
    "language_info": {
      "codemirror_mode": {
        "name": "ipython",
        "version": 3
      },
      "file_extension": ".py",
      "mimetype": "text/x-python",
      "name": "python",
      "nbconvert_exporter": "python",
      "pygments_lexer": "ipython3",
      "version": "3.7.10"
    },
    "toc": {
      "base_numbering": 1,
      "nav_menu": {},
      "number_sections": true,
      "sideBar": true,
      "skip_h1_title": false,
      "title_cell": "Table of Contents",
      "title_sidebar": "Contents",
      "toc_cell": false,
      "toc_position": {
        "height": "calc(100% - 180px)",
        "left": "10px",
        "top": "150px",
        "width": "384px"
      },
      "toc_section_display": true,
      "toc_window_display": true
    },
    "varInspector": {
      "cols": {
        "lenName": 16,
        "lenType": 16,
        "lenVar": 40
      },
      "kernels_config": {
        "python": {
          "delete_cmd_postfix": "",
          "delete_cmd_prefix": "del ",
          "library": "var_list.py",
          "varRefreshCmd": "print(var_dic_list())"
        },
        "r": {
          "delete_cmd_postfix": ") ",
          "delete_cmd_prefix": "rm(",
          "library": "var_list.r",
          "varRefreshCmd": "cat(var_dic_list()) "
        }
      },
      "types_to_exclude": [
        "module",
        "function",
        "builtin_function_or_method",
        "instance",
        "_Feature"
      ],
      "window_display": false
    },
    "widgets": {
      "application/vnd.jupyter.widget-state+json": {
        "995e9f96cb0d46a8b5a16d23e5343923": {
          "model_module": "@jupyter-widgets/controls",
          "model_name": "HBoxModel",
          "state": {
            "_view_name": "HBoxView",
            "_dom_classes": [],
            "_model_name": "HBoxModel",
            "_view_module": "@jupyter-widgets/controls",
            "_model_module_version": "1.5.0",
            "_view_count": null,
            "_view_module_version": "1.5.0",
            "box_style": "",
            "layout": "IPY_MODEL_c810f4507d834959a61f7403a26607a2",
            "_model_module": "@jupyter-widgets/controls",
            "children": [
              "IPY_MODEL_9ceb054226ca41b78fda864101eb785e",
              "IPY_MODEL_882348386693489981b1cd4f940fe10f"
            ]
          }
        },
        "c810f4507d834959a61f7403a26607a2": {
          "model_module": "@jupyter-widgets/base",
          "model_name": "LayoutModel",
          "state": {
            "_view_name": "LayoutView",
            "grid_template_rows": null,
            "right": null,
            "justify_content": null,
            "_view_module": "@jupyter-widgets/base",
            "overflow": null,
            "_model_module_version": "1.2.0",
            "_view_count": null,
            "flex_flow": null,
            "width": null,
            "min_width": null,
            "border": null,
            "align_items": null,
            "bottom": null,
            "_model_module": "@jupyter-widgets/base",
            "top": null,
            "grid_column": null,
            "overflow_y": null,
            "overflow_x": null,
            "grid_auto_flow": null,
            "grid_area": null,
            "grid_template_columns": null,
            "flex": null,
            "_model_name": "LayoutModel",
            "justify_items": null,
            "grid_row": null,
            "max_height": null,
            "align_content": null,
            "visibility": null,
            "align_self": null,
            "height": null,
            "min_height": null,
            "padding": null,
            "grid_auto_rows": null,
            "grid_gap": null,
            "max_width": null,
            "order": null,
            "_view_module_version": "1.2.0",
            "grid_template_areas": null,
            "object_position": null,
            "object_fit": null,
            "grid_auto_columns": null,
            "margin": null,
            "display": null,
            "left": null
          }
        },
        "9ceb054226ca41b78fda864101eb785e": {
          "model_module": "@jupyter-widgets/controls",
          "model_name": "FloatProgressModel",
          "state": {
            "_view_name": "ProgressView",
            "style": "IPY_MODEL_7d09fdb1bbbf468ea8d2808c19be8a12",
            "_dom_classes": [],
            "description": "100%",
            "_model_name": "FloatProgressModel",
            "bar_style": "success",
            "max": 10,
            "_view_module": "@jupyter-widgets/controls",
            "_model_module_version": "1.5.0",
            "value": 10,
            "_view_count": null,
            "_view_module_version": "1.5.0",
            "orientation": "horizontal",
            "min": 0,
            "description_tooltip": null,
            "_model_module": "@jupyter-widgets/controls",
            "layout": "IPY_MODEL_1803af2cab1e4fdfb8ecd91a59b0414b"
          }
        },
        "882348386693489981b1cd4f940fe10f": {
          "model_module": "@jupyter-widgets/controls",
          "model_name": "HTMLModel",
          "state": {
            "_view_name": "HTMLView",
            "style": "IPY_MODEL_5d669d8faab342c8a002f1051b8cfdd0",
            "_dom_classes": [],
            "description": "",
            "_model_name": "HTMLModel",
            "placeholder": "​",
            "_view_module": "@jupyter-widgets/controls",
            "_model_module_version": "1.5.0",
            "value": " 10/10 [00:07&lt;00:00,  1.26it/s, loss=0.0845]",
            "_view_count": null,
            "_view_module_version": "1.5.0",
            "description_tooltip": null,
            "_model_module": "@jupyter-widgets/controls",
            "layout": "IPY_MODEL_618cc234397549568456737c9cef8c9d"
          }
        },
        "7d09fdb1bbbf468ea8d2808c19be8a12": {
          "model_module": "@jupyter-widgets/controls",
          "model_name": "ProgressStyleModel",
          "state": {
            "_view_name": "StyleView",
            "_model_name": "ProgressStyleModel",
            "description_width": "initial",
            "_view_module": "@jupyter-widgets/base",
            "_model_module_version": "1.5.0",
            "_view_count": null,
            "_view_module_version": "1.2.0",
            "bar_color": null,
            "_model_module": "@jupyter-widgets/controls"
          }
        },
        "1803af2cab1e4fdfb8ecd91a59b0414b": {
          "model_module": "@jupyter-widgets/base",
          "model_name": "LayoutModel",
          "state": {
            "_view_name": "LayoutView",
            "grid_template_rows": null,
            "right": null,
            "justify_content": null,
            "_view_module": "@jupyter-widgets/base",
            "overflow": null,
            "_model_module_version": "1.2.0",
            "_view_count": null,
            "flex_flow": null,
            "width": null,
            "min_width": null,
            "border": null,
            "align_items": null,
            "bottom": null,
            "_model_module": "@jupyter-widgets/base",
            "top": null,
            "grid_column": null,
            "overflow_y": null,
            "overflow_x": null,
            "grid_auto_flow": null,
            "grid_area": null,
            "grid_template_columns": null,
            "flex": null,
            "_model_name": "LayoutModel",
            "justify_items": null,
            "grid_row": null,
            "max_height": null,
            "align_content": null,
            "visibility": null,
            "align_self": null,
            "height": null,
            "min_height": null,
            "padding": null,
            "grid_auto_rows": null,
            "grid_gap": null,
            "max_width": null,
            "order": null,
            "_view_module_version": "1.2.0",
            "grid_template_areas": null,
            "object_position": null,
            "object_fit": null,
            "grid_auto_columns": null,
            "margin": null,
            "display": null,
            "left": null
          }
        },
        "5d669d8faab342c8a002f1051b8cfdd0": {
          "model_module": "@jupyter-widgets/controls",
          "model_name": "DescriptionStyleModel",
          "state": {
            "_view_name": "StyleView",
            "_model_name": "DescriptionStyleModel",
            "description_width": "",
            "_view_module": "@jupyter-widgets/base",
            "_model_module_version": "1.5.0",
            "_view_count": null,
            "_view_module_version": "1.2.0",
            "_model_module": "@jupyter-widgets/controls"
          }
        },
        "618cc234397549568456737c9cef8c9d": {
          "model_module": "@jupyter-widgets/base",
          "model_name": "LayoutModel",
          "state": {
            "_view_name": "LayoutView",
            "grid_template_rows": null,
            "right": null,
            "justify_content": null,
            "_view_module": "@jupyter-widgets/base",
            "overflow": null,
            "_model_module_version": "1.2.0",
            "_view_count": null,
            "flex_flow": null,
            "width": null,
            "min_width": null,
            "border": null,
            "align_items": null,
            "bottom": null,
            "_model_module": "@jupyter-widgets/base",
            "top": null,
            "grid_column": null,
            "overflow_y": null,
            "overflow_x": null,
            "grid_auto_flow": null,
            "grid_area": null,
            "grid_template_columns": null,
            "flex": null,
            "_model_name": "LayoutModel",
            "justify_items": null,
            "grid_row": null,
            "max_height": null,
            "align_content": null,
            "visibility": null,
            "align_self": null,
            "height": null,
            "min_height": null,
            "padding": null,
            "grid_auto_rows": null,
            "grid_gap": null,
            "max_width": null,
            "order": null,
            "_view_module_version": "1.2.0",
            "grid_template_areas": null,
            "object_position": null,
            "object_fit": null,
            "grid_auto_columns": null,
            "margin": null,
            "display": null,
            "left": null
          }
        }
      }
    }
  },
  "cells": [
    {
      "cell_type": "markdown",
      "metadata": {
        "id": "vKTcTohkFoiA"
      },
      "source": [
        "[![Binder](https://mybinder.org/badge_logo.svg)](https://mybinder.org/v2/gh/AlphaLabsUY/recsys/main)\n",
        "\n",
        "[![Colab](https://camo.githubusercontent.com/52feade06f2fecbf006889a904d221e6a730c194/68747470733a2f2f636f6c61622e72657365617263682e676f6f676c652e636f6d2f6173736574732f636f6c61622d62616467652e737667\n",
        ")](https://colab.research.google.com/github/AlphaLabsUY/recsys/blob/main/recommendation_system_instacart.ipynb?authuser=1)\n"
      ]
    },
    {
      "cell_type": "code",
      "metadata": {
        "id": "bIvLkpQnZf8H"
      },
      "source": [
        "try:\n",
        "    import google.colab\n",
        "    IN_COLAB = True\n",
        "except:\n",
        "    IN_COLAB = False\n",
        "\n",
        "if IN_COLAB:\n",
        "    !pip install implicit umap-learn -q\n",
        "else:\n",
        "    %matplotlib notebook"
      ],
      "execution_count": 1,
      "outputs": []
    },
    {
      "cell_type": "code",
      "metadata": {
        "id": "cV1t3c94bPRl"
      },
      "source": [
        "import os\n",
        "import requests\n",
        "import zipfile\n",
        "\n",
        "from implicit.als import AlternatingLeastSquares\n",
        "from implicit.nearest_neighbours import bm25_weight\n",
        "import numpy as np\n",
        "import matplotlib.pyplot as plt\n",
        "import pandas as pd\n",
        "import plotly.graph_objects as go\n",
        "from umap import UMAP\n",
        "from scipy.sparse import csr_matrix\n",
        "\n",
        "os.environ[\"OPENBLAS_NUM_THREADS\"] = \"1\"\n",
        "\n"
      ],
      "execution_count": 2,
      "outputs": []
    },
    {
      "cell_type": "markdown",
      "metadata": {
        "id": "oHxCsSdIxPp8"
      },
      "source": [
        "# Get and load Data Set\n",
        "The original datata set is provided by the followin kaggle competition [instacart market basket analysis](https://www.kaggle.com/c/instacart-market-basket-analysis/overview) \n"
      ]
    },
    {
      "cell_type": "code",
      "metadata": {
        "id": "XGj4Vex1FoiM"
      },
      "source": [
        "def download_dataset():\n",
        "    url = \"https://www.dropbox.com/s/p2w4hql4qjsm0a2/instacart.zip?dl=1\"\n",
        "\n",
        "    path = 'data'\n",
        "    file = 'instacart.zip'\n",
        "    if not os.path.exists(path):\n",
        "        os.makedirs(path)\n",
        "\n",
        "    if not os.path.exists(f'{path}/{file}'):\n",
        "        r = requests.get(url, stream = True)\n",
        "        with open(f\"{path}/{file}\", \"wb\") as f:\n",
        "            for chunk in r.iter_content(chunk_size = 1024):\n",
        "                if chunk:\n",
        "                    f.write(chunk)\n",
        "        with zipfile.ZipFile(f\"{path}/{file}\", 'r') as zip_ref:\n",
        "            zip_ref.extractall(path)\n",
        "\n",
        "download_dataset()"
      ],
      "execution_count": 3,
      "outputs": []
    },
    {
      "cell_type": "code",
      "metadata": {
        "id": "EmzNFSeexObp"
      },
      "source": [
        "dataset_path = \"./data/\" \n",
        "\n",
        "orders_path = os.path.join(dataset_path, \"orders.csv\")\n",
        "product_path = os.path.join(dataset_path, \"products.csv\")\n",
        "orders_product_prior_path = os.path.join(dataset_path, \"order_products__prior.csv\")\n",
        "orders_product_train_path = os.path.join(dataset_path, \"order_products__train.csv\")\n",
        "departments_path = os.path.join(dataset_path, \"departments.csv\")\n",
        "aisles_path = os.path.join(dataset_path, \"aisles.csv\")"
      ],
      "execution_count": 4,
      "outputs": []
    },
    {
      "cell_type": "code",
      "metadata": {
        "id": "vUcBqS8G08Ot"
      },
      "source": [
        "products_dtypes = {\n",
        "    'product_id': np.int32, \n",
        "    'product_name': str, \n",
        "    'aisle_id': np.uint8, \n",
        "    'department_id': np.uint8\n",
        "}\n",
        "\n",
        "orders_dtypes = {\n",
        "    'order_id': np.int32, \n",
        "    'user_id': np.int32, \n",
        "    'eval_set': str, \n",
        "    'order_number': np.uint8, \n",
        "    'order_dow': np.uint8, \n",
        "    'order_hour_of_day': np.uint8, \n",
        "    'days_since_prior': np.float32\n",
        "}\n",
        "\n",
        "order_product_dtypes = {\n",
        "    'order_id': np.int32, \n",
        "    'product_id': np.int32, \n",
        "    'add_to_cart_order': np.uint8,\n",
        "    'reordered': np.uint8\n",
        "}\n",
        "\n",
        "orders = pd.read_csv(orders_path, dtype=orders_dtypes)\n",
        "products = pd.read_csv(product_path, dtype=products_dtypes)\n",
        "orders_product_prior = pd.read_csv(orders_product_prior_path, dtype=order_product_dtypes)\n",
        "orders_product_train = pd.read_csv(orders_product_train_path, dtype=order_product_dtypes)\n",
        "departments = pd.read_csv(departments_path)\n",
        "aisles = pd.read_csv(aisles_path)"
      ],
      "execution_count": 5,
      "outputs": []
    },
    {
      "cell_type": "code",
      "metadata": {
        "id": "yR8f7sJvFoiN"
      },
      "source": [
        ""
      ],
      "execution_count": 5,
      "outputs": []
    },
    {
      "cell_type": "markdown",
      "metadata": {
        "id": "spdolghG0mdC"
      },
      "source": [
        "# Exploratory Data Analysis"
      ]
    },
    {
      "cell_type": "markdown",
      "metadata": {
        "id": "878oJPEfFoiO"
      },
      "source": [
        "## Departments"
      ]
    },
    {
      "cell_type": "code",
      "metadata": {
        "colab": {
          "base_uri": "https://localhost:8080/"
        },
        "id": "fUnkf09FFoiP",
        "outputId": "eaa21226-14ee-4826-e5c0-e6db8109c322"
      },
      "source": [
        "departments.shape"
      ],
      "execution_count": 6,
      "outputs": [
        {
          "output_type": "execute_result",
          "data": {
            "text/plain": [
              "(21, 2)"
            ]
          },
          "metadata": {
            "tags": []
          },
          "execution_count": 6
        }
      ]
    },
    {
      "cell_type": "code",
      "metadata": {
        "colab": {
          "base_uri": "https://localhost:8080/",
          "height": 206
        },
        "id": "3wUb0zVMFoiR",
        "outputId": "43afdfb0-4fba-4636-9168-d5bea1d68d33"
      },
      "source": [
        "departments.head()"
      ],
      "execution_count": 7,
      "outputs": [
        {
          "output_type": "execute_result",
          "data": {
            "text/html": [
              "<div>\n",
              "<style scoped>\n",
              "    .dataframe tbody tr th:only-of-type {\n",
              "        vertical-align: middle;\n",
              "    }\n",
              "\n",
              "    .dataframe tbody tr th {\n",
              "        vertical-align: top;\n",
              "    }\n",
              "\n",
              "    .dataframe thead th {\n",
              "        text-align: right;\n",
              "    }\n",
              "</style>\n",
              "<table border=\"1\" class=\"dataframe\">\n",
              "  <thead>\n",
              "    <tr style=\"text-align: right;\">\n",
              "      <th></th>\n",
              "      <th>department_id</th>\n",
              "      <th>department</th>\n",
              "    </tr>\n",
              "  </thead>\n",
              "  <tbody>\n",
              "    <tr>\n",
              "      <th>0</th>\n",
              "      <td>1</td>\n",
              "      <td>frozen</td>\n",
              "    </tr>\n",
              "    <tr>\n",
              "      <th>1</th>\n",
              "      <td>2</td>\n",
              "      <td>other</td>\n",
              "    </tr>\n",
              "    <tr>\n",
              "      <th>2</th>\n",
              "      <td>3</td>\n",
              "      <td>bakery</td>\n",
              "    </tr>\n",
              "    <tr>\n",
              "      <th>3</th>\n",
              "      <td>4</td>\n",
              "      <td>produce</td>\n",
              "    </tr>\n",
              "    <tr>\n",
              "      <th>4</th>\n",
              "      <td>5</td>\n",
              "      <td>alcohol</td>\n",
              "    </tr>\n",
              "  </tbody>\n",
              "</table>\n",
              "</div>"
            ],
            "text/plain": [
              "   department_id department\n",
              "0              1     frozen\n",
              "1              2      other\n",
              "2              3     bakery\n",
              "3              4    produce\n",
              "4              5    alcohol"
            ]
          },
          "metadata": {
            "tags": []
          },
          "execution_count": 7
        }
      ]
    },
    {
      "cell_type": "markdown",
      "metadata": {
        "id": "LtxjS0reFoiS"
      },
      "source": [
        "## Aisles"
      ]
    },
    {
      "cell_type": "code",
      "metadata": {
        "colab": {
          "base_uri": "https://localhost:8080/"
        },
        "id": "z2uP_4RRFoiT",
        "outputId": "db30c579-cc1b-4bf1-decb-8cd4812a6643"
      },
      "source": [
        "aisles.shape"
      ],
      "execution_count": 8,
      "outputs": [
        {
          "output_type": "execute_result",
          "data": {
            "text/plain": [
              "(134, 2)"
            ]
          },
          "metadata": {
            "tags": []
          },
          "execution_count": 8
        }
      ]
    },
    {
      "cell_type": "code",
      "metadata": {
        "colab": {
          "base_uri": "https://localhost:8080/",
          "height": 206
        },
        "id": "_QdZLCrwFoiT",
        "outputId": "ee8eb6b7-87f4-4462-e007-4fd69ca23e10"
      },
      "source": [
        "aisles.head()"
      ],
      "execution_count": 9,
      "outputs": [
        {
          "output_type": "execute_result",
          "data": {
            "text/html": [
              "<div>\n",
              "<style scoped>\n",
              "    .dataframe tbody tr th:only-of-type {\n",
              "        vertical-align: middle;\n",
              "    }\n",
              "\n",
              "    .dataframe tbody tr th {\n",
              "        vertical-align: top;\n",
              "    }\n",
              "\n",
              "    .dataframe thead th {\n",
              "        text-align: right;\n",
              "    }\n",
              "</style>\n",
              "<table border=\"1\" class=\"dataframe\">\n",
              "  <thead>\n",
              "    <tr style=\"text-align: right;\">\n",
              "      <th></th>\n",
              "      <th>aisle_id</th>\n",
              "      <th>aisle</th>\n",
              "    </tr>\n",
              "  </thead>\n",
              "  <tbody>\n",
              "    <tr>\n",
              "      <th>0</th>\n",
              "      <td>1</td>\n",
              "      <td>prepared soups salads</td>\n",
              "    </tr>\n",
              "    <tr>\n",
              "      <th>1</th>\n",
              "      <td>2</td>\n",
              "      <td>specialty cheeses</td>\n",
              "    </tr>\n",
              "    <tr>\n",
              "      <th>2</th>\n",
              "      <td>3</td>\n",
              "      <td>energy granola bars</td>\n",
              "    </tr>\n",
              "    <tr>\n",
              "      <th>3</th>\n",
              "      <td>4</td>\n",
              "      <td>instant foods</td>\n",
              "    </tr>\n",
              "    <tr>\n",
              "      <th>4</th>\n",
              "      <td>5</td>\n",
              "      <td>marinades meat preparation</td>\n",
              "    </tr>\n",
              "  </tbody>\n",
              "</table>\n",
              "</div>"
            ],
            "text/plain": [
              "   aisle_id                       aisle\n",
              "0         1       prepared soups salads\n",
              "1         2           specialty cheeses\n",
              "2         3         energy granola bars\n",
              "3         4               instant foods\n",
              "4         5  marinades meat preparation"
            ]
          },
          "metadata": {
            "tags": []
          },
          "execution_count": 9
        }
      ]
    },
    {
      "cell_type": "markdown",
      "metadata": {
        "id": "WQl81Awi1u74"
      },
      "source": [
        "## Products"
      ]
    },
    {
      "cell_type": "code",
      "metadata": {
        "id": "VjFIl_XiFoiU"
      },
      "source": [
        "products = products.merge(departments, on='department_id', how='left')"
      ],
      "execution_count": 10,
      "outputs": []
    },
    {
      "cell_type": "code",
      "metadata": {
        "colab": {
          "base_uri": "https://localhost:8080/"
        },
        "id": "1UtjMeQ7FoiU",
        "outputId": "fd779d70-b5de-4797-f5a3-f1e178bfe313"
      },
      "source": [
        "products.shape"
      ],
      "execution_count": 11,
      "outputs": [
        {
          "output_type": "execute_result",
          "data": {
            "text/plain": [
              "(49688, 5)"
            ]
          },
          "metadata": {
            "tags": []
          },
          "execution_count": 11
        }
      ]
    },
    {
      "cell_type": "code",
      "metadata": {
        "colab": {
          "base_uri": "https://localhost:8080/",
          "height": 206
        },
        "id": "F6ywRtEQBXqq",
        "outputId": "c3050192-45ba-4d49-ef6f-0cd20bc7c105"
      },
      "source": [
        "products.head()"
      ],
      "execution_count": 12,
      "outputs": [
        {
          "output_type": "execute_result",
          "data": {
            "text/html": [
              "<div>\n",
              "<style scoped>\n",
              "    .dataframe tbody tr th:only-of-type {\n",
              "        vertical-align: middle;\n",
              "    }\n",
              "\n",
              "    .dataframe tbody tr th {\n",
              "        vertical-align: top;\n",
              "    }\n",
              "\n",
              "    .dataframe thead th {\n",
              "        text-align: right;\n",
              "    }\n",
              "</style>\n",
              "<table border=\"1\" class=\"dataframe\">\n",
              "  <thead>\n",
              "    <tr style=\"text-align: right;\">\n",
              "      <th></th>\n",
              "      <th>product_id</th>\n",
              "      <th>product_name</th>\n",
              "      <th>aisle_id</th>\n",
              "      <th>department_id</th>\n",
              "      <th>department</th>\n",
              "    </tr>\n",
              "  </thead>\n",
              "  <tbody>\n",
              "    <tr>\n",
              "      <th>0</th>\n",
              "      <td>1</td>\n",
              "      <td>Chocolate Sandwich Cookies</td>\n",
              "      <td>61</td>\n",
              "      <td>19</td>\n",
              "      <td>snacks</td>\n",
              "    </tr>\n",
              "    <tr>\n",
              "      <th>1</th>\n",
              "      <td>2</td>\n",
              "      <td>All-Seasons Salt</td>\n",
              "      <td>104</td>\n",
              "      <td>13</td>\n",
              "      <td>pantry</td>\n",
              "    </tr>\n",
              "    <tr>\n",
              "      <th>2</th>\n",
              "      <td>3</td>\n",
              "      <td>Robust Golden Unsweetened Oolong Tea</td>\n",
              "      <td>94</td>\n",
              "      <td>7</td>\n",
              "      <td>beverages</td>\n",
              "    </tr>\n",
              "    <tr>\n",
              "      <th>3</th>\n",
              "      <td>4</td>\n",
              "      <td>Smart Ones Classic Favorites Mini Rigatoni Wit...</td>\n",
              "      <td>38</td>\n",
              "      <td>1</td>\n",
              "      <td>frozen</td>\n",
              "    </tr>\n",
              "    <tr>\n",
              "      <th>4</th>\n",
              "      <td>5</td>\n",
              "      <td>Green Chile Anytime Sauce</td>\n",
              "      <td>5</td>\n",
              "      <td>13</td>\n",
              "      <td>pantry</td>\n",
              "    </tr>\n",
              "  </tbody>\n",
              "</table>\n",
              "</div>"
            ],
            "text/plain": [
              "   product_id  ... department\n",
              "0           1  ...     snacks\n",
              "1           2  ...     pantry\n",
              "2           3  ...  beverages\n",
              "3           4  ...     frozen\n",
              "4           5  ...     pantry\n",
              "\n",
              "[5 rows x 5 columns]"
            ]
          },
          "metadata": {
            "tags": []
          },
          "execution_count": 12
        }
      ]
    },
    {
      "cell_type": "code",
      "metadata": {
        "id": "qx24Qk5kI_PA",
        "colab": {
          "base_uri": "https://localhost:8080/",
          "height": 297
        },
        "outputId": "424e9039-899c-48c2-81e1-84b3387ef238"
      },
      "source": [
        "f, ax = plt.subplots()\n",
        "products['department'].value_counts().plot(kind='bar', ax=ax)\n",
        "f.tight_layout()"
      ],
      "execution_count": 13,
      "outputs": [
        {
          "output_type": "display_data",
          "data": {
            "image/png": "[encoded data removed]",
            "text/plain": [
              "<Figure size 432x288 with 1 Axes>"
            ]
          },
          "metadata": {
            "tags": [],
            "needs_background": "light"
          }
        }
      ]
    },
    {
      "cell_type": "markdown",
      "metadata": {
        "id": "mQ7isnhp073-"
      },
      "source": [
        "## Orders\n"
      ]
    },
    {
      "cell_type": "code",
      "metadata": {
        "colab": {
          "base_uri": "https://localhost:8080/"
        },
        "id": "Kex1KkhSFoiW",
        "outputId": "34b081c1-b1c4-43e7-ad4b-5a2a2ec7aca6"
      },
      "source": [
        "orders.shape"
      ],
      "execution_count": 14,
      "outputs": [
        {
          "output_type": "execute_result",
          "data": {
            "text/plain": [
              "(3421083, 7)"
            ]
          },
          "metadata": {
            "tags": []
          },
          "execution_count": 14
        }
      ]
    },
    {
      "cell_type": "code",
      "metadata": {
        "colab": {
          "base_uri": "https://localhost:8080/"
        },
        "id": "JnS-NH04FoiW",
        "outputId": "9c185d71-c95d-4778-f195-e28b60c969cb"
      },
      "source": [
        "orders['order_id'].nunique()"
      ],
      "execution_count": 15,
      "outputs": [
        {
          "output_type": "execute_result",
          "data": {
            "text/plain": [
              "3421083"
            ]
          },
          "metadata": {
            "tags": []
          },
          "execution_count": 15
        }
      ]
    },
    {
      "cell_type": "code",
      "metadata": {
        "colab": {
          "base_uri": "https://localhost:8080/",
          "height": 206
        },
        "id": "sz9DGstw1zHc",
        "outputId": "43fcb3a7-fce8-4c20-d7e2-a5f5e341df61"
      },
      "source": [
        "orders.head()"
      ],
      "execution_count": 16,
      "outputs": [
        {
          "output_type": "execute_result",
          "data": {
            "text/html": [
              "<div>\n",
              "<style scoped>\n",
              "    .dataframe tbody tr th:only-of-type {\n",
              "        vertical-align: middle;\n",
              "    }\n",
              "\n",
              "    .dataframe tbody tr th {\n",
              "        vertical-align: top;\n",
              "    }\n",
              "\n",
              "    .dataframe thead th {\n",
              "        text-align: right;\n",
              "    }\n",
              "</style>\n",
              "<table border=\"1\" class=\"dataframe\">\n",
              "  <thead>\n",
              "    <tr style=\"text-align: right;\">\n",
              "      <th></th>\n",
              "      <th>order_id</th>\n",
              "      <th>user_id</th>\n",
              "      <th>eval_set</th>\n",
              "      <th>order_number</th>\n",
              "      <th>order_dow</th>\n",
              "      <th>order_hour_of_day</th>\n",
              "      <th>days_since_prior_order</th>\n",
              "    </tr>\n",
              "  </thead>\n",
              "  <tbody>\n",
              "    <tr>\n",
              "      <th>0</th>\n",
              "      <td>2539329</td>\n",
              "      <td>1</td>\n",
              "      <td>prior</td>\n",
              "      <td>1</td>\n",
              "      <td>2</td>\n",
              "      <td>8</td>\n",
              "      <td>NaN</td>\n",
              "    </tr>\n",
              "    <tr>\n",
              "      <th>1</th>\n",
              "      <td>2398795</td>\n",
              "      <td>1</td>\n",
              "      <td>prior</td>\n",
              "      <td>2</td>\n",
              "      <td>3</td>\n",
              "      <td>7</td>\n",
              "      <td>15.0</td>\n",
              "    </tr>\n",
              "    <tr>\n",
              "      <th>2</th>\n",
              "      <td>473747</td>\n",
              "      <td>1</td>\n",
              "      <td>prior</td>\n",
              "      <td>3</td>\n",
              "      <td>3</td>\n",
              "      <td>12</td>\n",
              "      <td>21.0</td>\n",
              "    </tr>\n",
              "    <tr>\n",
              "      <th>3</th>\n",
              "      <td>2254736</td>\n",
              "      <td>1</td>\n",
              "      <td>prior</td>\n",
              "      <td>4</td>\n",
              "      <td>4</td>\n",
              "      <td>7</td>\n",
              "      <td>29.0</td>\n",
              "    </tr>\n",
              "    <tr>\n",
              "      <th>4</th>\n",
              "      <td>431534</td>\n",
              "      <td>1</td>\n",
              "      <td>prior</td>\n",
              "      <td>5</td>\n",
              "      <td>4</td>\n",
              "      <td>15</td>\n",
              "      <td>28.0</td>\n",
              "    </tr>\n",
              "  </tbody>\n",
              "</table>\n",
              "</div>"
            ],
            "text/plain": [
              "   order_id  user_id  ... order_hour_of_day  days_since_prior_order\n",
              "0   2539329        1  ...                 8                     NaN\n",
              "1   2398795        1  ...                 7                    15.0\n",
              "2    473747        1  ...                12                    21.0\n",
              "3   2254736        1  ...                 7                    29.0\n",
              "4    431534        1  ...                15                    28.0\n",
              "\n",
              "[5 rows x 7 columns]"
            ]
          },
          "metadata": {
            "tags": []
          },
          "execution_count": 16
        }
      ]
    },
    {
      "cell_type": "code",
      "metadata": {
        "colab": {
          "base_uri": "https://localhost:8080/"
        },
        "id": "rzzgNioK1apY",
        "outputId": "9b182e7b-6f9e-4135-d4df-1d681a5c6c9e"
      },
      "source": [
        "orders.isna().sum()"
      ],
      "execution_count": 17,
      "outputs": [
        {
          "output_type": "execute_result",
          "data": {
            "text/plain": [
              "order_id                       0\n",
              "user_id                        0\n",
              "eval_set                       0\n",
              "order_number                   0\n",
              "order_dow                      0\n",
              "order_hour_of_day              0\n",
              "days_since_prior_order    206209\n",
              "dtype: int64"
            ]
          },
          "metadata": {
            "tags": []
          },
          "execution_count": 17
        }
      ]
    },
    {
      "cell_type": "code",
      "metadata": {
        "colab": {
          "base_uri": "https://localhost:8080/"
        },
        "id": "RwNTbcxR1cW7",
        "outputId": "c5cf1a5d-067c-44bc-d622-912f1e07f641"
      },
      "source": [
        "orders[\"eval_set\"].value_counts()"
      ],
      "execution_count": 18,
      "outputs": [
        {
          "output_type": "execute_result",
          "data": {
            "text/plain": [
              "prior    3214874\n",
              "train     131209\n",
              "test       75000\n",
              "Name: eval_set, dtype: int64"
            ]
          },
          "metadata": {
            "tags": []
          },
          "execution_count": 18
        }
      ]
    },
    {
      "cell_type": "code",
      "metadata": {
        "colab": {
          "base_uri": "https://localhost:8080/",
          "height": 282
        },
        "id": "tzmmVtcLFoiX",
        "outputId": "6fa02796-e4c8-45da-b591-c485ef8c9d5e"
      },
      "source": [
        "f, ax = plt.subplots()\n",
        "orders.groupby('user_id')['order_number'].max().hist(bins=100,\n",
        "                                                     range=(0,100),\n",
        "                                                     ax=ax,\n",
        "                                                     density=True,\n",
        "                                                     cumulative=True,\n",
        "                                                     histtype='step', )"
      ],
      "execution_count": 19,
      "outputs": [
        {
          "output_type": "execute_result",
          "data": {
            "text/plain": [
              "<matplotlib.axes._subplots.AxesSubplot at 0x7f64b75e5a50>"
            ]
          },
          "metadata": {
            "tags": []
          },
          "execution_count": 19
        },
        {
          "output_type": "display_data",
          "data": {
            "image/png": "[encoded data removed]",
            "text/plain": [
              "<Figure size 432x288 with 1 Axes>"
            ]
          },
          "metadata": {
            "tags": [],
            "needs_background": "light"
          }
        }
      ]
    },
    {
      "cell_type": "markdown",
      "metadata": {
        "id": "xt-YOZZ1FoiY"
      },
      "source": [
        "categoras por hora"
      ]
    },
    {
      "cell_type": "code",
      "metadata": {
        "id": "KCjiMqTiFoiY"
      },
      "source": [
        ""
      ],
      "execution_count": 19,
      "outputs": []
    },
    {
      "cell_type": "markdown",
      "metadata": {
        "id": "Ar193TE_FoiY"
      },
      "source": [
        "## Users"
      ]
    },
    {
      "cell_type": "code",
      "metadata": {
        "colab": {
          "base_uri": "https://localhost:8080/"
        },
        "id": "lOYzh-yaFoiY",
        "outputId": "47266e8f-edf1-4327-d9b4-758936546509"
      },
      "source": [
        "users = orders['user_id'].unique()\n",
        "print(f'Total users: {users.shape[0]:,}')"
      ],
      "execution_count": 20,
      "outputs": [
        {
          "output_type": "stream",
          "text": [
            "Total users: 206,209\n"
          ],
          "name": "stdout"
        }
      ]
    },
    {
      "cell_type": "code",
      "metadata": {
        "colab": {
          "base_uri": "https://localhost:8080/",
          "height": 295
        },
        "id": "MLsRN8DTFoiZ",
        "outputId": "28f700b4-c486-4ef0-dc72-db45ffbd8104"
      },
      "source": [
        "f, ax = plt.subplots()\n",
        "orders.groupby(\"user_id\")['order_number'].max().hist(bins=100,\n",
        "                                                     range=(0,100),\n",
        "                                                     density=True,\n",
        "                                                     cumulative=True,\n",
        "                                                     histtype='step',\n",
        "                                                     ax=ax\n",
        "                                                    )\n",
        "ax.set(xlabel='number of orders',\n",
        "       ylabel='percentage of user',\n",
        "       title='histogram of number of order by user');\n"
      ],
      "execution_count": 21,
      "outputs": [
        {
          "output_type": "display_data",
          "data": {
            "image/png": "[encoded data removed]",
            "text/plain": [
              "<Figure size 432x288 with 1 Axes>"
            ]
          },
          "metadata": {
            "tags": [],
            "needs_background": "light"
          }
        }
      ]
    },
    {
      "cell_type": "markdown",
      "metadata": {
        "id": "E4gBmum719FR"
      },
      "source": [
        "## Order/Product"
      ]
    },
    {
      "cell_type": "code",
      "metadata": {
        "colab": {
          "base_uri": "https://localhost:8080/"
        },
        "id": "L0Lu8DSZFoiZ",
        "outputId": "909ed40a-a388-4168-c238-585fa3873afd"
      },
      "source": [
        "orders_product_prior.shape"
      ],
      "execution_count": 22,
      "outputs": [
        {
          "output_type": "execute_result",
          "data": {
            "text/plain": [
              "(32434489, 4)"
            ]
          },
          "metadata": {
            "tags": []
          },
          "execution_count": 22
        }
      ]
    },
    {
      "cell_type": "code",
      "metadata": {
        "colab": {
          "base_uri": "https://localhost:8080/",
          "height": 206
        },
        "id": "Fq56E-kRyYgH",
        "outputId": "6c85506f-0404-4bcb-af1c-491409b7774e"
      },
      "source": [
        "orders_product_prior.head()"
      ],
      "execution_count": 23,
      "outputs": [
        {
          "output_type": "execute_result",
          "data": {
            "text/html": [
              "<div>\n",
              "<style scoped>\n",
              "    .dataframe tbody tr th:only-of-type {\n",
              "        vertical-align: middle;\n",
              "    }\n",
              "\n",
              "    .dataframe tbody tr th {\n",
              "        vertical-align: top;\n",
              "    }\n",
              "\n",
              "    .dataframe thead th {\n",
              "        text-align: right;\n",
              "    }\n",
              "</style>\n",
              "<table border=\"1\" class=\"dataframe\">\n",
              "  <thead>\n",
              "    <tr style=\"text-align: right;\">\n",
              "      <th></th>\n",
              "      <th>order_id</th>\n",
              "      <th>product_id</th>\n",
              "      <th>add_to_cart_order</th>\n",
              "      <th>reordered</th>\n",
              "    </tr>\n",
              "  </thead>\n",
              "  <tbody>\n",
              "    <tr>\n",
              "      <th>0</th>\n",
              "      <td>2</td>\n",
              "      <td>33120</td>\n",
              "      <td>1</td>\n",
              "      <td>1</td>\n",
              "    </tr>\n",
              "    <tr>\n",
              "      <th>1</th>\n",
              "      <td>2</td>\n",
              "      <td>28985</td>\n",
              "      <td>2</td>\n",
              "      <td>1</td>\n",
              "    </tr>\n",
              "    <tr>\n",
              "      <th>2</th>\n",
              "      <td>2</td>\n",
              "      <td>9327</td>\n",
              "      <td>3</td>\n",
              "      <td>0</td>\n",
              "    </tr>\n",
              "    <tr>\n",
              "      <th>3</th>\n",
              "      <td>2</td>\n",
              "      <td>45918</td>\n",
              "      <td>4</td>\n",
              "      <td>1</td>\n",
              "    </tr>\n",
              "    <tr>\n",
              "      <th>4</th>\n",
              "      <td>2</td>\n",
              "      <td>30035</td>\n",
              "      <td>5</td>\n",
              "      <td>0</td>\n",
              "    </tr>\n",
              "  </tbody>\n",
              "</table>\n",
              "</div>"
            ],
            "text/plain": [
              "   order_id  product_id  add_to_cart_order  reordered\n",
              "0         2       33120                  1          1\n",
              "1         2       28985                  2          1\n",
              "2         2        9327                  3          0\n",
              "3         2       45918                  4          1\n",
              "4         2       30035                  5          0"
            ]
          },
          "metadata": {
            "tags": []
          },
          "execution_count": 23
        }
      ]
    },
    {
      "cell_type": "markdown",
      "metadata": {
        "id": "Qwhr7fuGFoia"
      },
      "source": [
        "The product coverage"
      ]
    },
    {
      "cell_type": "code",
      "metadata": {
        "colab": {
          "base_uri": "https://localhost:8080/"
        },
        "id": "OlHX7Q9PFoia",
        "outputId": "9f02f8ff-6995-44d9-9e78-4d688b9c0756"
      },
      "source": [
        "orders_product_prior['product_id'].nunique() / products.shape[0]"
      ],
      "execution_count": 24,
      "outputs": [
        {
          "output_type": "execute_result",
          "data": {
            "text/plain": [
              "0.9997786185799388"
            ]
          },
          "metadata": {
            "tags": []
          },
          "execution_count": 24
        }
      ]
    },
    {
      "cell_type": "code",
      "metadata": {
        "colab": {
          "base_uri": "https://localhost:8080/",
          "height": 279
        },
        "id": "GoRlLf9WFoia",
        "outputId": "56ea04e2-d659-49ba-ee22-6a2e7e3c9e07"
      },
      "source": [
        "ax = (\n",
        "    orders_product_prior['product_id']\n",
        "    .value_counts()\n",
        "    .hist(bins=100, range=(0,1000), density=True, cumulative=True, histtype='step')\n",
        ")\n",
        "ax.set(xlabel='number of time a product was bought',\n",
        "       ylabel='number of products');"
      ],
      "execution_count": 25,
      "outputs": [
        {
          "output_type": "display_data",
          "data": {
            "image/png": "[encoded data removed]",
            "text/plain": [
              "<Figure size 432x288 with 1 Axes>"
            ]
          },
          "metadata": {
            "tags": [],
            "needs_background": "light"
          }
        }
      ]
    },
    {
      "cell_type": "markdown",
      "metadata": {
        "id": "Doyl1RhUFoib"
      },
      "source": [
        "## Overview"
      ]
    },
    {
      "cell_type": "code",
      "metadata": {
        "id": "s5wQw4B7Foib"
      },
      "source": [
        "full_dataset = (orders_product_prior\n",
        "                .merge(orders, on='order_id')\n",
        "                .merge(products, on='product_id')\n",
        "               # .merge(departments, on='department_id')\n",
        "               )"
      ],
      "execution_count": 26,
      "outputs": []
    },
    {
      "cell_type": "code",
      "metadata": {
        "colab": {
          "base_uri": "https://localhost:8080/",
          "height": 424
        },
        "id": "k6BYLRE7Foib",
        "outputId": "c9fdc77d-3346-4a37-c34f-2b198cc023ed"
      },
      "source": [
        "full_dataset"
      ],
      "execution_count": 27,
      "outputs": [
        {
          "output_type": "execute_result",
          "data": {
            "text/html": [
              "<div>\n",
              "<style scoped>\n",
              "    .dataframe tbody tr th:only-of-type {\n",
              "        vertical-align: middle;\n",
              "    }\n",
              "\n",
              "    .dataframe tbody tr th {\n",
              "        vertical-align: top;\n",
              "    }\n",
              "\n",
              "    .dataframe thead th {\n",
              "        text-align: right;\n",
              "    }\n",
              "</style>\n",
              "<table border=\"1\" class=\"dataframe\">\n",
              "  <thead>\n",
              "    <tr style=\"text-align: right;\">\n",
              "      <th></th>\n",
              "      <th>order_id</th>\n",
              "      <th>product_id</th>\n",
              "      <th>add_to_cart_order</th>\n",
              "      <th>reordered</th>\n",
              "      <th>user_id</th>\n",
              "      <th>eval_set</th>\n",
              "      <th>order_number</th>\n",
              "      <th>order_dow</th>\n",
              "      <th>order_hour_of_day</th>\n",
              "      <th>days_since_prior_order</th>\n",
              "      <th>product_name</th>\n",
              "      <th>aisle_id</th>\n",
              "      <th>department_id</th>\n",
              "      <th>department</th>\n",
              "    </tr>\n",
              "  </thead>\n",
              "  <tbody>\n",
              "    <tr>\n",
              "      <th>0</th>\n",
              "      <td>2</td>\n",
              "      <td>33120</td>\n",
              "      <td>1</td>\n",
              "      <td>1</td>\n",
              "      <td>202279</td>\n",
              "      <td>prior</td>\n",
              "      <td>3</td>\n",
              "      <td>5</td>\n",
              "      <td>9</td>\n",
              "      <td>8.0</td>\n",
              "      <td>Organic Egg Whites</td>\n",
              "      <td>86</td>\n",
              "      <td>16</td>\n",
              "      <td>dairy eggs</td>\n",
              "    </tr>\n",
              "    <tr>\n",
              "      <th>1</th>\n",
              "      <td>26</td>\n",
              "      <td>33120</td>\n",
              "      <td>5</td>\n",
              "      <td>0</td>\n",
              "      <td>153404</td>\n",
              "      <td>prior</td>\n",
              "      <td>2</td>\n",
              "      <td>0</td>\n",
              "      <td>16</td>\n",
              "      <td>7.0</td>\n",
              "      <td>Organic Egg Whites</td>\n",
              "      <td>86</td>\n",
              "      <td>16</td>\n",
              "      <td>dairy eggs</td>\n",
              "    </tr>\n",
              "    <tr>\n",
              "      <th>2</th>\n",
              "      <td>120</td>\n",
              "      <td>33120</td>\n",
              "      <td>13</td>\n",
              "      <td>0</td>\n",
              "      <td>23750</td>\n",
              "      <td>prior</td>\n",
              "      <td>11</td>\n",
              "      <td>6</td>\n",
              "      <td>8</td>\n",
              "      <td>10.0</td>\n",
              "      <td>Organic Egg Whites</td>\n",
              "      <td>86</td>\n",
              "      <td>16</td>\n",
              "      <td>dairy eggs</td>\n",
              "    </tr>\n",
              "    <tr>\n",
              "      <th>3</th>\n",
              "      <td>327</td>\n",
              "      <td>33120</td>\n",
              "      <td>5</td>\n",
              "      <td>1</td>\n",
              "      <td>58707</td>\n",
              "      <td>prior</td>\n",
              "      <td>21</td>\n",
              "      <td>6</td>\n",
              "      <td>9</td>\n",
              "      <td>8.0</td>\n",
              "      <td>Organic Egg Whites</td>\n",
              "      <td>86</td>\n",
              "      <td>16</td>\n",
              "      <td>dairy eggs</td>\n",
              "    </tr>\n",
              "    <tr>\n",
              "      <th>4</th>\n",
              "      <td>390</td>\n",
              "      <td>33120</td>\n",
              "      <td>28</td>\n",
              "      <td>1</td>\n",
              "      <td>166654</td>\n",
              "      <td>prior</td>\n",
              "      <td>48</td>\n",
              "      <td>0</td>\n",
              "      <td>12</td>\n",
              "      <td>9.0</td>\n",
              "      <td>Organic Egg Whites</td>\n",
              "      <td>86</td>\n",
              "      <td>16</td>\n",
              "      <td>dairy eggs</td>\n",
              "    </tr>\n",
              "    <tr>\n",
              "      <th>...</th>\n",
              "      <td>...</td>\n",
              "      <td>...</td>\n",
              "      <td>...</td>\n",
              "      <td>...</td>\n",
              "      <td>...</td>\n",
              "      <td>...</td>\n",
              "      <td>...</td>\n",
              "      <td>...</td>\n",
              "      <td>...</td>\n",
              "      <td>...</td>\n",
              "      <td>...</td>\n",
              "      <td>...</td>\n",
              "      <td>...</td>\n",
              "      <td>...</td>\n",
              "    </tr>\n",
              "    <tr>\n",
              "      <th>32434484</th>\n",
              "      <td>3265099</td>\n",
              "      <td>43492</td>\n",
              "      <td>3</td>\n",
              "      <td>0</td>\n",
              "      <td>111311</td>\n",
              "      <td>prior</td>\n",
              "      <td>2</td>\n",
              "      <td>3</td>\n",
              "      <td>10</td>\n",
              "      <td>5.0</td>\n",
              "      <td>Gourmet Burger Seasoning</td>\n",
              "      <td>104</td>\n",
              "      <td>13</td>\n",
              "      <td>pantry</td>\n",
              "    </tr>\n",
              "    <tr>\n",
              "      <th>32434485</th>\n",
              "      <td>3361945</td>\n",
              "      <td>43492</td>\n",
              "      <td>19</td>\n",
              "      <td>0</td>\n",
              "      <td>142932</td>\n",
              "      <td>prior</td>\n",
              "      <td>25</td>\n",
              "      <td>3</td>\n",
              "      <td>10</td>\n",
              "      <td>5.0</td>\n",
              "      <td>Gourmet Burger Seasoning</td>\n",
              "      <td>104</td>\n",
              "      <td>13</td>\n",
              "      <td>pantry</td>\n",
              "    </tr>\n",
              "    <tr>\n",
              "      <th>32434486</th>\n",
              "      <td>3267201</td>\n",
              "      <td>33097</td>\n",
              "      <td>2</td>\n",
              "      <td>0</td>\n",
              "      <td>183867</td>\n",
              "      <td>prior</td>\n",
              "      <td>19</td>\n",
              "      <td>3</td>\n",
              "      <td>18</td>\n",
              "      <td>3.0</td>\n",
              "      <td>Piquillo &amp; Jalapeno Bruschetta</td>\n",
              "      <td>81</td>\n",
              "      <td>15</td>\n",
              "      <td>canned goods</td>\n",
              "    </tr>\n",
              "    <tr>\n",
              "      <th>32434487</th>\n",
              "      <td>3393151</td>\n",
              "      <td>38977</td>\n",
              "      <td>32</td>\n",
              "      <td>0</td>\n",
              "      <td>79056</td>\n",
              "      <td>prior</td>\n",
              "      <td>1</td>\n",
              "      <td>4</td>\n",
              "      <td>13</td>\n",
              "      <td>NaN</td>\n",
              "      <td>Original Jerky</td>\n",
              "      <td>100</td>\n",
              "      <td>21</td>\n",
              "      <td>missing</td>\n",
              "    </tr>\n",
              "    <tr>\n",
              "      <th>32434488</th>\n",
              "      <td>3400803</td>\n",
              "      <td>23624</td>\n",
              "      <td>7</td>\n",
              "      <td>0</td>\n",
              "      <td>152189</td>\n",
              "      <td>prior</td>\n",
              "      <td>4</td>\n",
              "      <td>3</td>\n",
              "      <td>14</td>\n",
              "      <td>2.0</td>\n",
              "      <td>Flatbread Pizza All Natural</td>\n",
              "      <td>79</td>\n",
              "      <td>1</td>\n",
              "      <td>frozen</td>\n",
              "    </tr>\n",
              "  </tbody>\n",
              "</table>\n",
              "<p>32434489 rows × 14 columns</p>\n",
              "</div>"
            ],
            "text/plain": [
              "          order_id  product_id  ...  department_id    department\n",
              "0                2       33120  ...             16    dairy eggs\n",
              "1               26       33120  ...             16    dairy eggs\n",
              "2              120       33120  ...             16    dairy eggs\n",
              "3              327       33120  ...             16    dairy eggs\n",
              "4              390       33120  ...             16    dairy eggs\n",
              "...            ...         ...  ...            ...           ...\n",
              "32434484   3265099       43492  ...             13        pantry\n",
              "32434485   3361945       43492  ...             13        pantry\n",
              "32434486   3267201       33097  ...             15  canned goods\n",
              "32434487   3393151       38977  ...             21       missing\n",
              "32434488   3400803       23624  ...              1        frozen\n",
              "\n",
              "[32434489 rows x 14 columns]"
            ]
          },
          "metadata": {
            "tags": []
          },
          "execution_count": 27
        }
      ]
    },
    {
      "cell_type": "code",
      "metadata": {
        "scrolled": false,
        "colab": {
          "base_uri": "https://localhost:8080/",
          "height": 515
        },
        "id": "TA8ciyRsFoib",
        "outputId": "7a8e9606-3db3-4d4d-bbb2-64f8d0034163"
      },
      "source": [
        "product_by_dow = full_dataset.pivot_table(index='order_dow',\n",
        "                                          columns='department',\n",
        "                                          values='product_id',\n",
        "                                          aggfunc='count', )\n",
        "product_by_dow /= product_by_dow.sum()\n",
        "\n",
        "f, ax = plt.subplots(figsize=(15,8))\n",
        "product_by_dow.plot(ax=ax)"
      ],
      "execution_count": 28,
      "outputs": [
        {
          "output_type": "execute_result",
          "data": {
            "text/plain": [
              "<matplotlib.axes._subplots.AxesSubplot at 0x7f64aee9ef90>"
            ]
          },
          "metadata": {
            "tags": []
          },
          "execution_count": 28
        },
        {
          "output_type": "display_data",
          "data": {
            "image/png": "[encoded data removed]",
            "text/plain": [
              "<Figure size 1080x576 with 1 Axes>"
            ]
          },
          "metadata": {
            "tags": [],
            "needs_background": "light"
          }
        }
      ]
    },
    {
      "cell_type": "code",
      "metadata": {
        "scrolled": false,
        "colab": {
          "base_uri": "https://localhost:8080/",
          "height": 515
        },
        "id": "oTBJqVDIFoic",
        "outputId": "dd8972b1-7e09-442d-d141-c5a01e948c5f"
      },
      "source": [
        "product_by_hour = full_dataset.pivot_table(index='order_hour_of_day',\n",
        "                                           columns='department',\n",
        "                                           values='product_id',\n",
        "                                           aggfunc='count', )\n",
        "product_by_hour /= product_by_hour.sum()\n",
        "\n",
        "\n",
        "f, ax = plt.subplots(figsize=(15,8))\n",
        "product_by_hour.plot(ax=ax)"
      ],
      "execution_count": 29,
      "outputs": [
        {
          "output_type": "execute_result",
          "data": {
            "text/plain": [
              "<matplotlib.axes._subplots.AxesSubplot at 0x7f64adaad9d0>"
            ]
          },
          "metadata": {
            "tags": []
          },
          "execution_count": 29
        },
        {
          "output_type": "display_data",
          "data": {
            "image/png": "[encoded data removed]",
            "text/plain": [
              "<Figure size 1080x576 with 1 Axes>"
            ]
          },
          "metadata": {
            "tags": [],
            "needs_background": "light"
          }
        }
      ]
    },
    {
      "cell_type": "code",
      "metadata": {
        "id": "io6Dm04-Foic"
      },
      "source": [
        "### uniques"
      ],
      "execution_count": 30,
      "outputs": []
    },
    {
      "cell_type": "markdown",
      "metadata": {
        "id": "FgpPgRRDFoic"
      },
      "source": [
        "### Key User/Item Distributions"
      ]
    },
    {
      "cell_type": "markdown",
      "metadata": {
        "id": "SAtgAhqfFoic"
      },
      "source": [
        "### User/Item Re-Purchases"
      ]
    },
    {
      "cell_type": "markdown",
      "metadata": {
        "id": "DaigvkQWFoic"
      },
      "source": [
        "### Most Popular"
      ]
    },
    {
      "cell_type": "code",
      "metadata": {
        "colab": {
          "base_uri": "https://localhost:8080/"
        },
        "id": "Lweb2f5FFoid",
        "outputId": "e0d03403-fdff-4b5b-d3d6-9e85e7cb78ec"
      },
      "source": [
        "full_dataset['product_name'].value_counts(normalize=True)[:30]"
      ],
      "execution_count": 31,
      "outputs": [
        {
          "output_type": "execute_result",
          "data": {
            "text/plain": [
              "Banana                                  0.014570\n",
              "Bag of Organic Bananas                  0.011699\n",
              "Organic Strawberries                    0.008161\n",
              "Organic Baby Spinach                    0.007459\n",
              "Organic Hass Avocado                    0.006585\n",
              "Organic Avocado                         0.005451\n",
              "Large Lemon                             0.004707\n",
              "Strawberries                            0.004407\n",
              "Limes                                   0.004336\n",
              "Organic Whole Milk                      0.004252\n",
              "Organic Raspberries                     0.004226\n",
              "Organic Yellow Onion                    0.003497\n",
              "Organic Garlic                          0.003385\n",
              "Organic Zucchini                        0.003232\n",
              "Organic Blueberries                     0.003085\n",
              "Cucumber Kirby                          0.003000\n",
              "Organic Fuji Apple                      0.002763\n",
              "Organic Lemon                           0.002705\n",
              "Apple Honeycrisp Organic                0.002621\n",
              "Organic Grape Tomatoes                  0.002598\n",
              "Seedless Red Grapes                     0.002549\n",
              "Organic Cucumber                        0.002479\n",
              "Honeycrisp Apple                        0.002459\n",
              "Organic Baby Carrots                    0.002371\n",
              "Organic Half & Half                     0.002354\n",
              "Sparkling Water Grapefruit              0.002340\n",
              "Organic Large Extra Fancy Fuji Apple    0.002317\n",
              "Yellow Onions                           0.002256\n",
              "Organic Gala Apples                     0.002246\n",
              "Organic Baby Arugula                    0.002245\n",
              "Name: product_name, dtype: float64"
            ]
          },
          "metadata": {
            "tags": []
          },
          "execution_count": 31
        }
      ]
    },
    {
      "cell_type": "code",
      "metadata": {
        "colab": {
          "base_uri": "https://localhost:8080/"
        },
        "id": "ZdVzK6iRFoid",
        "outputId": "ad995ab7-efe7-4a9b-88a6-7b0239596da0"
      },
      "source": [
        "full_dataset['department'].value_counts(normalize=True)"
      ],
      "execution_count": 32,
      "outputs": [
        {
          "output_type": "execute_result",
          "data": {
            "text/plain": [
              "produce            0.292260\n",
              "dairy eggs         0.166922\n",
              "snacks             0.089027\n",
              "beverages          0.082940\n",
              "frozen             0.068952\n",
              "pantry             0.057827\n",
              "bakery             0.036282\n",
              "canned goods       0.032930\n",
              "deli               0.032411\n",
              "dry goods pasta    0.026719\n",
              "household          0.022774\n",
              "breakfast          0.021877\n",
              "meat seafood       0.021857\n",
              "personal care      0.013785\n",
              "babies             0.013066\n",
              "international      0.008301\n",
              "alcohol            0.004739\n",
              "pets               0.003013\n",
              "missing            0.002132\n",
              "other              0.001119\n",
              "bulk               0.001066\n",
              "Name: department, dtype: float64"
            ]
          },
          "metadata": {
            "tags": []
          },
          "execution_count": 32
        }
      ]
    },
    {
      "cell_type": "markdown",
      "metadata": {
        "id": "RymeLav32a1E"
      },
      "source": [
        "# Feature Engineering\n"
      ]
    },
    {
      "cell_type": "markdown",
      "metadata": {
        "id": "NxXZ9y4IFoid"
      },
      "source": [
        "Split order into prior and train set"
      ]
    },
    {
      "cell_type": "code",
      "metadata": {
        "colab": {
          "base_uri": "https://localhost:8080/"
        },
        "id": "Jcbl2AD2Foie",
        "outputId": "8afb1aa8-1d31-4f63-c7fb-78b738d67842"
      },
      "source": [
        "orders_prior = orders[orders[\"eval_set\"] == \"prior\"]\n",
        "orders_train = orders[orders[\"eval_set\"] == \"train\"]\n",
        "\n",
        "print(f'Number of unique user in prior: {len(orders_prior[\"user_id\"].unique())}')\n",
        "print(f'Number of unique user in train: {len(orders_train[\"user_id\"].unique())}')"
      ],
      "execution_count": 33,
      "outputs": [
        {
          "output_type": "stream",
          "text": [
            "Number of unique user in prior: 206209\n",
            "Number of unique user in train: 131209\n"
          ],
          "name": "stdout"
        }
      ]
    },
    {
      "cell_type": "markdown",
      "metadata": {
        "id": "KSz3wNaMFoie"
      },
      "source": [
        "Get full list of user_id / product_id"
      ]
    },
    {
      "cell_type": "code",
      "metadata": {
        "id": "WIpSGUQq3mUz"
      },
      "source": [
        "user_product_prior = (\n",
        "    orders_product_prior[['order_id', 'product_id']]\n",
        "    .merge(orders[['user_id', 'order_id']], on='order_id')\n",
        "    .drop(columns=['order_id'])\n",
        ")\n",
        "\n",
        "user_product_train = (\n",
        "    orders_product_train[['order_id', 'product_id']]\n",
        "    .merge(orders[['user_id', 'order_id']], on='order_id')\n",
        "    .drop(columns=['order_id'])\n",
        ")"
      ],
      "execution_count": 34,
      "outputs": []
    },
    {
      "cell_type": "code",
      "metadata": {
        "colab": {
          "base_uri": "https://localhost:8080/",
          "height": 206
        },
        "id": "ubV7SNMOFoif",
        "outputId": "bfcef501-9fba-48a7-92f3-888366e4a8e1"
      },
      "source": [
        "user_product_prior.head()"
      ],
      "execution_count": 35,
      "outputs": [
        {
          "output_type": "execute_result",
          "data": {
            "text/html": [
              "<div>\n",
              "<style scoped>\n",
              "    .dataframe tbody tr th:only-of-type {\n",
              "        vertical-align: middle;\n",
              "    }\n",
              "\n",
              "    .dataframe tbody tr th {\n",
              "        vertical-align: top;\n",
              "    }\n",
              "\n",
              "    .dataframe thead th {\n",
              "        text-align: right;\n",
              "    }\n",
              "</style>\n",
              "<table border=\"1\" class=\"dataframe\">\n",
              "  <thead>\n",
              "    <tr style=\"text-align: right;\">\n",
              "      <th></th>\n",
              "      <th>product_id</th>\n",
              "      <th>user_id</th>\n",
              "    </tr>\n",
              "  </thead>\n",
              "  <tbody>\n",
              "    <tr>\n",
              "      <th>0</th>\n",
              "      <td>33120</td>\n",
              "      <td>202279</td>\n",
              "    </tr>\n",
              "    <tr>\n",
              "      <th>1</th>\n",
              "      <td>28985</td>\n",
              "      <td>202279</td>\n",
              "    </tr>\n",
              "    <tr>\n",
              "      <th>2</th>\n",
              "      <td>9327</td>\n",
              "      <td>202279</td>\n",
              "    </tr>\n",
              "    <tr>\n",
              "      <th>3</th>\n",
              "      <td>45918</td>\n",
              "      <td>202279</td>\n",
              "    </tr>\n",
              "    <tr>\n",
              "      <th>4</th>\n",
              "      <td>30035</td>\n",
              "      <td>202279</td>\n",
              "    </tr>\n",
              "  </tbody>\n",
              "</table>\n",
              "</div>"
            ],
            "text/plain": [
              "   product_id  user_id\n",
              "0       33120   202279\n",
              "1       28985   202279\n",
              "2        9327   202279\n",
              "3       45918   202279\n",
              "4       30035   202279"
            ]
          },
          "metadata": {
            "tags": []
          },
          "execution_count": 35
        }
      ]
    },
    {
      "cell_type": "code",
      "metadata": {
        "colab": {
          "base_uri": "https://localhost:8080/"
        },
        "id": "v1sOYy5EkD7a",
        "outputId": "3c04d3d6-2d3e-48fa-cf63-e80bf02ad551"
      },
      "source": [
        "user_product_prior.shape"
      ],
      "execution_count": 36,
      "outputs": [
        {
          "output_type": "execute_result",
          "data": {
            "text/plain": [
              "(32434489, 2)"
            ]
          },
          "metadata": {
            "tags": []
          },
          "execution_count": 36
        }
      ]
    },
    {
      "cell_type": "code",
      "metadata": {
        "colab": {
          "base_uri": "https://localhost:8080/"
        },
        "id": "xTe6j-cLf0sV",
        "outputId": "1010a670-5cf0-4dee-9333-52f8d56dbca4"
      },
      "source": [
        "user_product_train.shape"
      ],
      "execution_count": 37,
      "outputs": [
        {
          "output_type": "execute_result",
          "data": {
            "text/plain": [
              "(1384617, 2)"
            ]
          },
          "metadata": {
            "tags": []
          },
          "execution_count": 37
        }
      ]
    },
    {
      "cell_type": "code",
      "metadata": {
        "id": "wBaL74_1Foig"
      },
      "source": [
        "class SparseTransformer:\n",
        "    \"\"\"Convert user-item dataset into a sparse matrix\"\"\"\n",
        "    def __init__(self):\n",
        "        self.users = None\n",
        "        self.products = None\n",
        "        self.shape = None\n",
        "    \n",
        "    def _sparse_matrices(self, users, products, values = None):\n",
        "        \n",
        "        if not values:\n",
        "            values = np.ones(len(users))\n",
        "        \n",
        "        row_index = users\n",
        "        col_index = products\n",
        "\n",
        "        sparse_user_item = \\\n",
        "            csr_matrix((values, (row_index, col_index)), shape=self.shape)\n",
        "    \n",
        "        return sparse_user_item\n",
        "\n",
        "    def fit(self, users, products):\n",
        "        self.shape = (np.max(users) + 1, np.max(products) + 1)\n",
        "        return self\n",
        "    \n",
        "    def transform(self, users, products):\n",
        "        return self._sparse_matrices(users, products)\n",
        "    \n",
        "    def fit_transform(self, users, products):\n",
        "        return self.fit(users, products).transform(users, products)"
      ],
      "execution_count": 38,
      "outputs": []
    },
    {
      "cell_type": "code",
      "metadata": {
        "id": "a2SHeq7aFoig"
      },
      "source": [
        "data_model = SparseTransformer().fit(users=user_product_prior['user_id'],\n",
        "                                     products=user_product_prior['product_id'])\n",
        "\n",
        "sparse_user_item_prior = data_model.transform(user_product_prior['user_id'],\n",
        "                                              user_product_prior['product_id'])"
      ],
      "execution_count": 39,
      "outputs": []
    },
    {
      "cell_type": "code",
      "metadata": {
        "colab": {
          "base_uri": "https://localhost:8080/"
        },
        "id": "mAc6yUUDFoig",
        "outputId": "fa1fac33-07d1-4eb0-c833-7f657001eeb1"
      },
      "source": [
        "sparse_user_item_prior = (bm25_weight(sparse_user_item_prior, B=0.9) * 5).tocsr()\n",
        "sparse_item_user_prior = sparse_user_item_prior.T.tocsr()\n",
        "\n",
        "\n",
        "sparse_user_item_prior.shape"
      ],
      "execution_count": 40,
      "outputs": [
        {
          "output_type": "execute_result",
          "data": {
            "text/plain": [
              "(206210, 49689)"
            ]
          },
          "metadata": {
            "tags": []
          },
          "execution_count": 40
        }
      ]
    },
    {
      "cell_type": "markdown",
      "metadata": {
        "id": "Fs83tME2531C"
      },
      "source": [
        "# Modeling"
      ]
    },
    {
      "cell_type": "markdown",
      "metadata": {
        "id": "r1b18hb2M21O"
      },
      "source": [
        "## Random Model (base line)"
      ]
    },
    {
      "cell_type": "code",
      "metadata": {
        "id": "G8NgR1ZwFoih"
      },
      "source": [
        "class RandomModel():\n",
        "    def __init__(self):\n",
        "        self.products = None\n",
        "    \n",
        "    def train(self, products):\n",
        "        self.products = np.asarray(products)\n",
        "        return self\n",
        "\n",
        "    def recommend(self, size=(1,10)):\n",
        "        return np.random.choice(self.products, size=size, replace=False)"
      ],
      "execution_count": 41,
      "outputs": []
    },
    {
      "cell_type": "code",
      "metadata": {
        "id": "bMuIVEL3Kryb"
      },
      "source": [
        "random_model = RandomModel().train(products.index.tolist())"
      ],
      "execution_count": 42,
      "outputs": []
    },
    {
      "cell_type": "markdown",
      "metadata": {
        "id": "lbqui_C_M6yl"
      },
      "source": [
        "## Alternating Least Squares (ALS) model"
      ]
    },
    {
      "cell_type": "code",
      "metadata": {
        "colab": {
          "base_uri": "https://localhost:8080/",
          "height": 66,
          "referenced_widgets": [
            "995e9f96cb0d46a8b5a16d23e5343923",
            "c810f4507d834959a61f7403a26607a2",
            "9ceb054226ca41b78fda864101eb785e",
            "882348386693489981b1cd4f940fe10f",
            "7d09fdb1bbbf468ea8d2808c19be8a12",
            "1803af2cab1e4fdfb8ecd91a59b0414b",
            "5d669d8faab342c8a002f1051b8cfdd0",
            "618cc234397549568456737c9cef8c9d"
          ]
        },
        "id": "t9q9MoaAKEzf",
        "outputId": "b10d20c2-664b-4018-f88e-c3aa5a529700"
      },
      "source": [
        "model_user_item = AlternatingLeastSquares(factors=128,\n",
        "                                          random_state=42,\n",
        "                                          iterations=10,\n",
        "                                          calculate_training_loss=True,\n",
        "                                         )\n",
        "model_user_item.fit(item_users=sparse_item_user_prior)"
      ],
      "execution_count": 43,
      "outputs": [
        {
          "output_type": "display_data",
          "data": {
            "application/vnd.jupyter.widget-view+json": {
              "model_id": "995e9f96cb0d46a8b5a16d23e5343923",
              "version_minor": 0,
              "version_major": 2
            },
            "text/plain": [
              "HBox(children=(FloatProgress(value=0.0, max=10.0), HTML(value='')))"
            ]
          },
          "metadata": {
            "tags": []
          }
        },
        {
          "output_type": "stream",
          "text": [
            "\n"
          ],
          "name": "stdout"
        }
      ]
    },
    {
      "cell_type": "markdown",
      "metadata": {
        "id": "-hAyDp7JojV3"
      },
      "source": [
        "# Evaluation"
      ]
    },
    {
      "cell_type": "markdown",
      "metadata": {
        "id": "HVobf_eLF3Ai"
      },
      "source": [
        "## Random Model"
      ]
    },
    {
      "cell_type": "code",
      "metadata": {
        "id": "dyujS2x4F1ol",
        "colab": {
          "base_uri": "https://localhost:8080/",
          "height": 363
        },
        "outputId": "28b00ee1-afeb-4447-bde7-3e7b20685250"
      },
      "source": [
        "random_rec = random_model.recommend()\n",
        "\n",
        "products.loc[random_rec[0].tolist(), :]"
      ],
      "execution_count": 44,
      "outputs": [
        {
          "output_type": "execute_result",
          "data": {
            "text/html": [
              "<div>\n",
              "<style scoped>\n",
              "    .dataframe tbody tr th:only-of-type {\n",
              "        vertical-align: middle;\n",
              "    }\n",
              "\n",
              "    .dataframe tbody tr th {\n",
              "        vertical-align: top;\n",
              "    }\n",
              "\n",
              "    .dataframe thead th {\n",
              "        text-align: right;\n",
              "    }\n",
              "</style>\n",
              "<table border=\"1\" class=\"dataframe\">\n",
              "  <thead>\n",
              "    <tr style=\"text-align: right;\">\n",
              "      <th></th>\n",
              "      <th>product_id</th>\n",
              "      <th>product_name</th>\n",
              "      <th>aisle_id</th>\n",
              "      <th>department_id</th>\n",
              "      <th>department</th>\n",
              "    </tr>\n",
              "  </thead>\n",
              "  <tbody>\n",
              "    <tr>\n",
              "      <th>48085</th>\n",
              "      <td>48086</td>\n",
              "      <td>Black Forest Ham</td>\n",
              "      <td>96</td>\n",
              "      <td>20</td>\n",
              "      <td>deli</td>\n",
              "    </tr>\n",
              "    <tr>\n",
              "      <th>30232</th>\n",
              "      <td>30233</td>\n",
              "      <td>Organic Large Brown Grade AA Cage Free Eggs</td>\n",
              "      <td>86</td>\n",
              "      <td>16</td>\n",
              "      <td>dairy eggs</td>\n",
              "    </tr>\n",
              "    <tr>\n",
              "      <th>26125</th>\n",
              "      <td>26126</td>\n",
              "      <td>Moisturizing Yuzu Shower Gel</td>\n",
              "      <td>25</td>\n",
              "      <td>11</td>\n",
              "      <td>personal care</td>\n",
              "    </tr>\n",
              "    <tr>\n",
              "      <th>27326</th>\n",
              "      <td>27327</td>\n",
              "      <td>Habanero Peppers</td>\n",
              "      <td>83</td>\n",
              "      <td>4</td>\n",
              "      <td>produce</td>\n",
              "    </tr>\n",
              "    <tr>\n",
              "      <th>2071</th>\n",
              "      <td>2072</td>\n",
              "      <td>Psyllium Husks Veg Caps 625 Mg</td>\n",
              "      <td>70</td>\n",
              "      <td>11</td>\n",
              "      <td>personal care</td>\n",
              "    </tr>\n",
              "    <tr>\n",
              "      <th>10834</th>\n",
              "      <td>10835</td>\n",
              "      <td>Doubleshot Energy Coffee Energy Coffee Beverage</td>\n",
              "      <td>26</td>\n",
              "      <td>7</td>\n",
              "      <td>beverages</td>\n",
              "    </tr>\n",
              "    <tr>\n",
              "      <th>41814</th>\n",
              "      <td>41815</td>\n",
              "      <td>Ham &amp; Turkey Breast Sub Kit</td>\n",
              "      <td>96</td>\n",
              "      <td>20</td>\n",
              "      <td>deli</td>\n",
              "    </tr>\n",
              "    <tr>\n",
              "      <th>1365</th>\n",
              "      <td>1366</td>\n",
              "      <td>Splash Berry Blend Juice</td>\n",
              "      <td>98</td>\n",
              "      <td>7</td>\n",
              "      <td>beverages</td>\n",
              "    </tr>\n",
              "    <tr>\n",
              "      <th>47277</th>\n",
              "      <td>47278</td>\n",
              "      <td>Roasted Turkey With Garlic Mashed Cauliflower</td>\n",
              "      <td>38</td>\n",
              "      <td>1</td>\n",
              "      <td>frozen</td>\n",
              "    </tr>\n",
              "    <tr>\n",
              "      <th>13594</th>\n",
              "      <td>13595</td>\n",
              "      <td>337 Cabernet Sauvignon Wine</td>\n",
              "      <td>28</td>\n",
              "      <td>5</td>\n",
              "      <td>alcohol</td>\n",
              "    </tr>\n",
              "  </tbody>\n",
              "</table>\n",
              "</div>"
            ],
            "text/plain": [
              "       product_id  ...     department\n",
              "48085       48086  ...           deli\n",
              "30232       30233  ...     dairy eggs\n",
              "26125       26126  ...  personal care\n",
              "27326       27327  ...        produce\n",
              "2071         2072  ...  personal care\n",
              "10834       10835  ...      beverages\n",
              "41814       41815  ...           deli\n",
              "1365         1366  ...      beverages\n",
              "47277       47278  ...         frozen\n",
              "13594       13595  ...        alcohol\n",
              "\n",
              "[10 rows x 5 columns]"
            ]
          },
          "metadata": {
            "tags": []
          },
          "execution_count": 44
        }
      ]
    },
    {
      "cell_type": "markdown",
      "metadata": {
        "id": "zmgEB97GOUdD"
      },
      "source": [
        "## ALS Model"
      ]
    },
    {
      "cell_type": "code",
      "metadata": {
        "id": "HiibUkxLCoQo"
      },
      "source": [
        "user_id = 12221"
      ],
      "execution_count": 45,
      "outputs": []
    },
    {
      "cell_type": "markdown",
      "metadata": {
        "id": "D4eWl2VbR7Bv"
      },
      "source": [
        "The following tabla show the most frequent products bought by the user_id"
      ]
    },
    {
      "cell_type": "code",
      "metadata": {
        "colab": {
          "base_uri": "https://localhost:8080/",
          "height": 677
        },
        "id": "0oCwx4pA3zhs",
        "outputId": "a49a30d5-85ad-4d68-f397-8a5418b222c8"
      },
      "source": [
        "user_prod_freq = (\n",
        "    user_product_prior\n",
        "    .loc[user_product_prior['user_id'] == user_id, 'product_id']\n",
        "    .value_counts()\n",
        "    .iloc[:20]\n",
        ")\n",
        "\n",
        "products.loc[user_prod_freq.index.to_list(), :]"
      ],
      "execution_count": 46,
      "outputs": [
        {
          "output_type": "execute_result",
          "data": {
            "text/html": [
              "<div>\n",
              "<style scoped>\n",
              "    .dataframe tbody tr th:only-of-type {\n",
              "        vertical-align: middle;\n",
              "    }\n",
              "\n",
              "    .dataframe tbody tr th {\n",
              "        vertical-align: top;\n",
              "    }\n",
              "\n",
              "    .dataframe thead th {\n",
              "        text-align: right;\n",
              "    }\n",
              "</style>\n",
              "<table border=\"1\" class=\"dataframe\">\n",
              "  <thead>\n",
              "    <tr style=\"text-align: right;\">\n",
              "      <th></th>\n",
              "      <th>product_id</th>\n",
              "      <th>product_name</th>\n",
              "      <th>aisle_id</th>\n",
              "      <th>department_id</th>\n",
              "      <th>department</th>\n",
              "    </tr>\n",
              "  </thead>\n",
              "  <tbody>\n",
              "    <tr>\n",
              "      <th>39275</th>\n",
              "      <td>39276</td>\n",
              "      <td>Bananas</td>\n",
              "      <td>24</td>\n",
              "      <td>4</td>\n",
              "      <td>produce</td>\n",
              "    </tr>\n",
              "    <tr>\n",
              "      <th>1117</th>\n",
              "      <td>1118</td>\n",
              "      <td>Ginger Chia Kombucha</td>\n",
              "      <td>31</td>\n",
              "      <td>7</td>\n",
              "      <td>beverages</td>\n",
              "    </tr>\n",
              "    <tr>\n",
              "      <th>29142</th>\n",
              "      <td>29143</td>\n",
              "      <td>L'Oréal® Paris Advanced Haircare Total Repair ...</td>\n",
              "      <td>22</td>\n",
              "      <td>11</td>\n",
              "      <td>personal care</td>\n",
              "    </tr>\n",
              "    <tr>\n",
              "      <th>18264</th>\n",
              "      <td>18265</td>\n",
              "      <td>Hello I'm A Handful Pretzel Bites</td>\n",
              "      <td>45</td>\n",
              "      <td>19</td>\n",
              "      <td>snacks</td>\n",
              "    </tr>\n",
              "    <tr>\n",
              "      <th>26209</th>\n",
              "      <td>26210</td>\n",
              "      <td>Almond Gold Bar</td>\n",
              "      <td>45</td>\n",
              "      <td>19</td>\n",
              "      <td>snacks</td>\n",
              "    </tr>\n",
              "    <tr>\n",
              "      <th>3819</th>\n",
              "      <td>3820</td>\n",
              "      <td>Double Chocolate Flavor Reduced Calorie Puddin...</td>\n",
              "      <td>71</td>\n",
              "      <td>16</td>\n",
              "      <td>dairy eggs</td>\n",
              "    </tr>\n",
              "    <tr>\n",
              "      <th>20119</th>\n",
              "      <td>20120</td>\n",
              "      <td>DeTox Caffeine Free Organic Herbal Tea Bags</td>\n",
              "      <td>94</td>\n",
              "      <td>7</td>\n",
              "      <td>beverages</td>\n",
              "    </tr>\n",
              "    <tr>\n",
              "      <th>28745</th>\n",
              "      <td>28746</td>\n",
              "      <td>On The Go Ice Raspberry</td>\n",
              "      <td>90</td>\n",
              "      <td>7</td>\n",
              "      <td>beverages</td>\n",
              "    </tr>\n",
              "    <tr>\n",
              "      <th>16797</th>\n",
              "      <td>16798</td>\n",
              "      <td>Chicken Breast Grilled Strips</td>\n",
              "      <td>7</td>\n",
              "      <td>12</td>\n",
              "      <td>meat seafood</td>\n",
              "    </tr>\n",
              "    <tr>\n",
              "      <th>19057</th>\n",
              "      <td>19058</td>\n",
              "      <td>Lil' Pastas Ravioli, Cheese and Spinach</td>\n",
              "      <td>92</td>\n",
              "      <td>18</td>\n",
              "      <td>babies</td>\n",
              "    </tr>\n",
              "    <tr>\n",
              "      <th>264</th>\n",
              "      <td>265</td>\n",
              "      <td>Glass Storage Container with Green Silicone Pr...</td>\n",
              "      <td>85</td>\n",
              "      <td>17</td>\n",
              "      <td>household</td>\n",
              "    </tr>\n",
              "    <tr>\n",
              "      <th>47766</th>\n",
              "      <td>47767</td>\n",
              "      <td>Essential Enzymes 500 Mg</td>\n",
              "      <td>70</td>\n",
              "      <td>11</td>\n",
              "      <td>personal care</td>\n",
              "    </tr>\n",
              "    <tr>\n",
              "      <th>12545</th>\n",
              "      <td>12546</td>\n",
              "      <td>Normal Perfect C Serum</td>\n",
              "      <td>109</td>\n",
              "      <td>11</td>\n",
              "      <td>personal care</td>\n",
              "    </tr>\n",
              "    <tr>\n",
              "      <th>33872</th>\n",
              "      <td>33873</td>\n",
              "      <td>Chocolate Flavored Dairy Free Coconut Milk Fro...</td>\n",
              "      <td>37</td>\n",
              "      <td>1</td>\n",
              "      <td>frozen</td>\n",
              "    </tr>\n",
              "    <tr>\n",
              "      <th>7736</th>\n",
              "      <td>7737</td>\n",
              "      <td>Sweet Butternut Squash Ravioli</td>\n",
              "      <td>12</td>\n",
              "      <td>9</td>\n",
              "      <td>dry goods pasta</td>\n",
              "    </tr>\n",
              "    <tr>\n",
              "      <th>38293</th>\n",
              "      <td>38294</td>\n",
              "      <td>Pizza, Margherita, Rice Crust</td>\n",
              "      <td>79</td>\n",
              "      <td>1</td>\n",
              "      <td>frozen</td>\n",
              "    </tr>\n",
              "    <tr>\n",
              "      <th>21019</th>\n",
              "      <td>21020</td>\n",
              "      <td>94% Fat Free Butter Popcorn Pop Up Bowl</td>\n",
              "      <td>23</td>\n",
              "      <td>19</td>\n",
              "      <td>snacks</td>\n",
              "    </tr>\n",
              "    <tr>\n",
              "      <th>6218</th>\n",
              "      <td>6219</td>\n",
              "      <td>Turkey Breast Medallions</td>\n",
              "      <td>38</td>\n",
              "      <td>1</td>\n",
              "      <td>frozen</td>\n",
              "    </tr>\n",
              "    <tr>\n",
              "      <th>16759</th>\n",
              "      <td>16760</td>\n",
              "      <td>Slow Cooker Sauces, Sweet Koream BBQ with Roas...</td>\n",
              "      <td>5</td>\n",
              "      <td>13</td>\n",
              "      <td>pantry</td>\n",
              "    </tr>\n",
              "    <tr>\n",
              "      <th>5729</th>\n",
              "      <td>5730</td>\n",
              "      <td>Plus Soft Toothbrush</td>\n",
              "      <td>20</td>\n",
              "      <td>11</td>\n",
              "      <td>personal care</td>\n",
              "    </tr>\n",
              "  </tbody>\n",
              "</table>\n",
              "</div>"
            ],
            "text/plain": [
              "       product_id  ...       department\n",
              "39275       39276  ...          produce\n",
              "1117         1118  ...        beverages\n",
              "29142       29143  ...    personal care\n",
              "18264       18265  ...           snacks\n",
              "26209       26210  ...           snacks\n",
              "3819         3820  ...       dairy eggs\n",
              "20119       20120  ...        beverages\n",
              "28745       28746  ...        beverages\n",
              "16797       16798  ...     meat seafood\n",
              "19057       19058  ...           babies\n",
              "264           265  ...        household\n",
              "47766       47767  ...    personal care\n",
              "12545       12546  ...    personal care\n",
              "33872       33873  ...           frozen\n",
              "7736         7737  ...  dry goods pasta\n",
              "38293       38294  ...           frozen\n",
              "21019       21020  ...           snacks\n",
              "6218         6219  ...           frozen\n",
              "16759       16760  ...           pantry\n",
              "5729         5730  ...    personal care\n",
              "\n",
              "[20 rows x 5 columns]"
            ]
          },
          "metadata": {
            "tags": []
          },
          "execution_count": 46
        }
      ]
    },
    {
      "cell_type": "markdown",
      "metadata": {
        "id": "P1RWdCkIFoij"
      },
      "source": [
        "### User recommendation"
      ]
    },
    {
      "cell_type": "code",
      "metadata": {
        "colab": {
          "base_uri": "https://localhost:8080/",
          "height": 677
        },
        "id": "yFTh9h7HEJW-",
        "outputId": "cf28bac3-645a-45c1-d301-0f2f45889efe"
      },
      "source": [
        "recommendation = model_user_item.recommend(user_id, sparse_user_item_prior, N=20)\n",
        "\n",
        "products.loc[[k[0] for k in recommendation], :]"
      ],
      "execution_count": 47,
      "outputs": [
        {
          "output_type": "execute_result",
          "data": {
            "text/html": [
              "<div>\n",
              "<style scoped>\n",
              "    .dataframe tbody tr th:only-of-type {\n",
              "        vertical-align: middle;\n",
              "    }\n",
              "\n",
              "    .dataframe tbody tr th {\n",
              "        vertical-align: top;\n",
              "    }\n",
              "\n",
              "    .dataframe thead th {\n",
              "        text-align: right;\n",
              "    }\n",
              "</style>\n",
              "<table border=\"1\" class=\"dataframe\">\n",
              "  <thead>\n",
              "    <tr style=\"text-align: right;\">\n",
              "      <th></th>\n",
              "      <th>product_id</th>\n",
              "      <th>product_name</th>\n",
              "      <th>aisle_id</th>\n",
              "      <th>department_id</th>\n",
              "      <th>department</th>\n",
              "    </tr>\n",
              "  </thead>\n",
              "  <tbody>\n",
              "    <tr>\n",
              "      <th>311</th>\n",
              "      <td>312</td>\n",
              "      <td>Juicing Carrots</td>\n",
              "      <td>83</td>\n",
              "      <td>4</td>\n",
              "      <td>produce</td>\n",
              "    </tr>\n",
              "    <tr>\n",
              "      <th>47626</th>\n",
              "      <td>47627</td>\n",
              "      <td>Salsa Ranch Yogurt Dressing</td>\n",
              "      <td>89</td>\n",
              "      <td>13</td>\n",
              "      <td>pantry</td>\n",
              "    </tr>\n",
              "    <tr>\n",
              "      <th>35221</th>\n",
              "      <td>35222</td>\n",
              "      <td>Sauteed Glazed Onions</td>\n",
              "      <td>116</td>\n",
              "      <td>1</td>\n",
              "      <td>frozen</td>\n",
              "    </tr>\n",
              "    <tr>\n",
              "      <th>47630</th>\n",
              "      <td>47631</td>\n",
              "      <td>Original Vegetable Oil Spread</td>\n",
              "      <td>36</td>\n",
              "      <td>16</td>\n",
              "      <td>dairy eggs</td>\n",
              "    </tr>\n",
              "    <tr>\n",
              "      <th>43504</th>\n",
              "      <td>43505</td>\n",
              "      <td>Premium Dog Food with Lamb and Rice Classic Pa...</td>\n",
              "      <td>40</td>\n",
              "      <td>8</td>\n",
              "      <td>pets</td>\n",
              "    </tr>\n",
              "    <tr>\n",
              "      <th>5450</th>\n",
              "      <td>5451</td>\n",
              "      <td>Organic Zucchini Spirals</td>\n",
              "      <td>83</td>\n",
              "      <td>4</td>\n",
              "      <td>produce</td>\n",
              "    </tr>\n",
              "    <tr>\n",
              "      <th>48287</th>\n",
              "      <td>48288</td>\n",
              "      <td>Milk and Buttery Olive Oil</td>\n",
              "      <td>19</td>\n",
              "      <td>13</td>\n",
              "      <td>pantry</td>\n",
              "    </tr>\n",
              "    <tr>\n",
              "      <th>14947</th>\n",
              "      <td>14948</td>\n",
              "      <td>Microwave-Ready Idaho Potato</td>\n",
              "      <td>83</td>\n",
              "      <td>4</td>\n",
              "      <td>produce</td>\n",
              "    </tr>\n",
              "    <tr>\n",
              "      <th>4658</th>\n",
              "      <td>4659</td>\n",
              "      <td>Organic Sloppy Joe Seasoning</td>\n",
              "      <td>104</td>\n",
              "      <td>13</td>\n",
              "      <td>pantry</td>\n",
              "    </tr>\n",
              "    <tr>\n",
              "      <th>37158</th>\n",
              "      <td>37159</td>\n",
              "      <td>Wasabi Sauce</td>\n",
              "      <td>66</td>\n",
              "      <td>6</td>\n",
              "      <td>international</td>\n",
              "    </tr>\n",
              "    <tr>\n",
              "      <th>35898</th>\n",
              "      <td>35899</td>\n",
              "      <td>Organic Cherry Orchard Fruit Bites Pouches</td>\n",
              "      <td>50</td>\n",
              "      <td>19</td>\n",
              "      <td>snacks</td>\n",
              "    </tr>\n",
              "    <tr>\n",
              "      <th>21709</th>\n",
              "      <td>21710</td>\n",
              "      <td>Organic Stevia Powdered Sweetener Packets</td>\n",
              "      <td>17</td>\n",
              "      <td>13</td>\n",
              "      <td>pantry</td>\n",
              "    </tr>\n",
              "    <tr>\n",
              "      <th>5782</th>\n",
              "      <td>5783</td>\n",
              "      <td>Mixed Berry Bites</td>\n",
              "      <td>45</td>\n",
              "      <td>19</td>\n",
              "      <td>snacks</td>\n",
              "    </tr>\n",
              "    <tr>\n",
              "      <th>42475</th>\n",
              "      <td>42476</td>\n",
              "      <td>Vegan Gluten-Free Juicy Meyer Lemon Cheesecake</td>\n",
              "      <td>71</td>\n",
              "      <td>16</td>\n",
              "      <td>dairy eggs</td>\n",
              "    </tr>\n",
              "    <tr>\n",
              "      <th>5825</th>\n",
              "      <td>5826</td>\n",
              "      <td>Organic Mint Confetti Ice Cream</td>\n",
              "      <td>17</td>\n",
              "      <td>13</td>\n",
              "      <td>pantry</td>\n",
              "    </tr>\n",
              "    <tr>\n",
              "      <th>43295</th>\n",
              "      <td>43296</td>\n",
              "      <td>Coconut Juice</td>\n",
              "      <td>98</td>\n",
              "      <td>7</td>\n",
              "      <td>beverages</td>\n",
              "    </tr>\n",
              "    <tr>\n",
              "      <th>44632</th>\n",
              "      <td>44633</td>\n",
              "      <td>Hearty Chicken with Vegetables RTS Soup</td>\n",
              "      <td>69</td>\n",
              "      <td>15</td>\n",
              "      <td>canned goods</td>\n",
              "    </tr>\n",
              "    <tr>\n",
              "      <th>28204</th>\n",
              "      <td>28205</td>\n",
              "      <td>Golden Toasted Bread Crumbs</td>\n",
              "      <td>5</td>\n",
              "      <td>13</td>\n",
              "      <td>pantry</td>\n",
              "    </tr>\n",
              "    <tr>\n",
              "      <th>17461</th>\n",
              "      <td>17462</td>\n",
              "      <td>Freeze Dried Blueberries</td>\n",
              "      <td>117</td>\n",
              "      <td>19</td>\n",
              "      <td>snacks</td>\n",
              "    </tr>\n",
              "    <tr>\n",
              "      <th>13424</th>\n",
              "      <td>13425</td>\n",
              "      <td>Blueberry Bliss Luna Bar</td>\n",
              "      <td>3</td>\n",
              "      <td>19</td>\n",
              "      <td>snacks</td>\n",
              "    </tr>\n",
              "  </tbody>\n",
              "</table>\n",
              "</div>"
            ],
            "text/plain": [
              "       product_id  ...     department\n",
              "311           312  ...        produce\n",
              "47626       47627  ...         pantry\n",
              "35221       35222  ...         frozen\n",
              "47630       47631  ...     dairy eggs\n",
              "43504       43505  ...           pets\n",
              "5450         5451  ...        produce\n",
              "48287       48288  ...         pantry\n",
              "14947       14948  ...        produce\n",
              "4658         4659  ...         pantry\n",
              "37158       37159  ...  international\n",
              "35898       35899  ...         snacks\n",
              "21709       21710  ...         pantry\n",
              "5782         5783  ...         snacks\n",
              "42475       42476  ...     dairy eggs\n",
              "5825         5826  ...         pantry\n",
              "43295       43296  ...      beverages\n",
              "44632       44633  ...   canned goods\n",
              "28204       28205  ...         pantry\n",
              "17461       17462  ...         snacks\n",
              "13424       13425  ...         snacks\n",
              "\n",
              "[20 rows x 5 columns]"
            ]
          },
          "metadata": {
            "tags": []
          },
          "execution_count": 47
        }
      ]
    },
    {
      "cell_type": "markdown",
      "metadata": {
        "id": "lK9_s-lh6n6n"
      },
      "source": [
        "### Explanation"
      ]
    },
    {
      "cell_type": "code",
      "metadata": {
        "colab": {
          "base_uri": "https://localhost:8080/",
          "height": 363
        },
        "id": "PZ84ZENP6mLh",
        "outputId": "f58aab74-1e88-416c-cf76-6ffad4a57b9a"
      },
      "source": [
        "product_id = 47627\n",
        "_, top_contribution, _ = model_user_item.explain(user_id, sparse_user_item_prior, product_id)\n",
        "pd.DataFrame([(products.loc[product_id, 'product_name'], score) for product_id,score in top_contribution], columns=['product', 'score'])"
      ],
      "execution_count": 48,
      "outputs": [
        {
          "output_type": "execute_result",
          "data": {
            "text/html": [
              "<div>\n",
              "<style scoped>\n",
              "    .dataframe tbody tr th:only-of-type {\n",
              "        vertical-align: middle;\n",
              "    }\n",
              "\n",
              "    .dataframe tbody tr th {\n",
              "        vertical-align: top;\n",
              "    }\n",
              "\n",
              "    .dataframe thead th {\n",
              "        text-align: right;\n",
              "    }\n",
              "</style>\n",
              "<table border=\"1\" class=\"dataframe\">\n",
              "  <thead>\n",
              "    <tr style=\"text-align: right;\">\n",
              "      <th></th>\n",
              "      <th>product</th>\n",
              "      <th>score</th>\n",
              "    </tr>\n",
              "  </thead>\n",
              "  <tbody>\n",
              "    <tr>\n",
              "      <th>0</th>\n",
              "      <td>Double Chocolate Flavor Reduced Calorie Puddin...</td>\n",
              "      <td>0.023902</td>\n",
              "    </tr>\n",
              "    <tr>\n",
              "      <th>1</th>\n",
              "      <td>Authentic Chunky Style Refried Beans</td>\n",
              "      <td>0.020070</td>\n",
              "    </tr>\n",
              "    <tr>\n",
              "      <th>2</th>\n",
              "      <td>94% Fat Free Butter Popcorn Pop Up Bowl</td>\n",
              "      <td>0.019374</td>\n",
              "    </tr>\n",
              "    <tr>\n",
              "      <th>3</th>\n",
              "      <td>Pizza, Margherita, Rice Crust</td>\n",
              "      <td>0.018544</td>\n",
              "    </tr>\n",
              "    <tr>\n",
              "      <th>4</th>\n",
              "      <td>Plus Soft Toothbrush</td>\n",
              "      <td>0.015556</td>\n",
              "    </tr>\n",
              "    <tr>\n",
              "      <th>5</th>\n",
              "      <td>Ginger Chia Kombucha</td>\n",
              "      <td>0.012263</td>\n",
              "    </tr>\n",
              "    <tr>\n",
              "      <th>6</th>\n",
              "      <td>Original Vanilla Nutrition Shake</td>\n",
              "      <td>0.011414</td>\n",
              "    </tr>\n",
              "    <tr>\n",
              "      <th>7</th>\n",
              "      <td>Oxygen Moisture Shampoo</td>\n",
              "      <td>0.009278</td>\n",
              "    </tr>\n",
              "    <tr>\n",
              "      <th>8</th>\n",
              "      <td>Essential Enzymes 500 Mg</td>\n",
              "      <td>0.008996</td>\n",
              "    </tr>\n",
              "    <tr>\n",
              "      <th>9</th>\n",
              "      <td>Madagascar Pure Vanilla Extract</td>\n",
              "      <td>0.008586</td>\n",
              "    </tr>\n",
              "  </tbody>\n",
              "</table>\n",
              "</div>"
            ],
            "text/plain": [
              "                                             product     score\n",
              "0  Double Chocolate Flavor Reduced Calorie Puddin...  0.023902\n",
              "1               Authentic Chunky Style Refried Beans  0.020070\n",
              "2            94% Fat Free Butter Popcorn Pop Up Bowl  0.019374\n",
              "3                      Pizza, Margherita, Rice Crust  0.018544\n",
              "4                               Plus Soft Toothbrush  0.015556\n",
              "5                               Ginger Chia Kombucha  0.012263\n",
              "6                   Original Vanilla Nutrition Shake  0.011414\n",
              "7                            Oxygen Moisture Shampoo  0.009278\n",
              "8                           Essential Enzymes 500 Mg  0.008996\n",
              "9                    Madagascar Pure Vanilla Extract  0.008586"
            ]
          },
          "metadata": {
            "tags": []
          },
          "execution_count": 48
        }
      ]
    },
    {
      "cell_type": "markdown",
      "metadata": {
        "id": "_YMwJ_PeEMNf"
      },
      "source": [
        "### Similar items"
      ]
    },
    {
      "cell_type": "markdown",
      "metadata": {
        "id": "LGi9FTatFoil"
      },
      "source": [
        "In this first example the most similar item belong to the same dapertment_id without give any information about it."
      ]
    },
    {
      "cell_type": "code",
      "metadata": {
        "colab": {
          "base_uri": "https://localhost:8080/",
          "height": 363
        },
        "id": "QPT8ala0ELE-",
        "outputId": "4c0717cb-82f3-4272-8697-7ac4a5550c68"
      },
      "source": [
        "item_id = 8277\n",
        "similar_product = np.asarray(model_user_item.similar_items(item_id), dtype=int)\n",
        "\n",
        "products.loc[similar_product[:, 0] - 1, :]"
      ],
      "execution_count": 49,
      "outputs": [
        {
          "output_type": "execute_result",
          "data": {
            "text/html": [
              "<div>\n",
              "<style scoped>\n",
              "    .dataframe tbody tr th:only-of-type {\n",
              "        vertical-align: middle;\n",
              "    }\n",
              "\n",
              "    .dataframe tbody tr th {\n",
              "        vertical-align: top;\n",
              "    }\n",
              "\n",
              "    .dataframe thead th {\n",
              "        text-align: right;\n",
              "    }\n",
              "</style>\n",
              "<table border=\"1\" class=\"dataframe\">\n",
              "  <thead>\n",
              "    <tr style=\"text-align: right;\">\n",
              "      <th></th>\n",
              "      <th>product_id</th>\n",
              "      <th>product_name</th>\n",
              "      <th>aisle_id</th>\n",
              "      <th>department_id</th>\n",
              "      <th>department</th>\n",
              "    </tr>\n",
              "  </thead>\n",
              "  <tbody>\n",
              "    <tr>\n",
              "      <th>8276</th>\n",
              "      <td>8277</td>\n",
              "      <td>Apple Honeycrisp Organic</td>\n",
              "      <td>24</td>\n",
              "      <td>4</td>\n",
              "      <td>produce</td>\n",
              "    </tr>\n",
              "    <tr>\n",
              "      <th>30390</th>\n",
              "      <td>30391</td>\n",
              "      <td>Organic Cucumber</td>\n",
              "      <td>83</td>\n",
              "      <td>4</td>\n",
              "      <td>produce</td>\n",
              "    </tr>\n",
              "    <tr>\n",
              "      <th>47208</th>\n",
              "      <td>47209</td>\n",
              "      <td>Organic Hass Avocado</td>\n",
              "      <td>24</td>\n",
              "      <td>4</td>\n",
              "      <td>produce</td>\n",
              "    </tr>\n",
              "    <tr>\n",
              "      <th>10748</th>\n",
              "      <td>10749</td>\n",
              "      <td>Organic Red Bell Pepper</td>\n",
              "      <td>83</td>\n",
              "      <td>4</td>\n",
              "      <td>produce</td>\n",
              "    </tr>\n",
              "    <tr>\n",
              "      <th>8517</th>\n",
              "      <td>8518</td>\n",
              "      <td>Organic Red Onion</td>\n",
              "      <td>83</td>\n",
              "      <td>4</td>\n",
              "      <td>produce</td>\n",
              "    </tr>\n",
              "    <tr>\n",
              "      <th>5875</th>\n",
              "      <td>5876</td>\n",
              "      <td>Organic Lemon</td>\n",
              "      <td>24</td>\n",
              "      <td>4</td>\n",
              "      <td>produce</td>\n",
              "    </tr>\n",
              "    <tr>\n",
              "      <th>45065</th>\n",
              "      <td>45066</td>\n",
              "      <td>Honeycrisp Apple</td>\n",
              "      <td>24</td>\n",
              "      <td>4</td>\n",
              "      <td>produce</td>\n",
              "    </tr>\n",
              "    <tr>\n",
              "      <th>45006</th>\n",
              "      <td>45007</td>\n",
              "      <td>Organic Zucchini</td>\n",
              "      <td>83</td>\n",
              "      <td>4</td>\n",
              "      <td>produce</td>\n",
              "    </tr>\n",
              "    <tr>\n",
              "      <th>22934</th>\n",
              "      <td>22935</td>\n",
              "      <td>Organic Yellow Onion</td>\n",
              "      <td>83</td>\n",
              "      <td>4</td>\n",
              "      <td>produce</td>\n",
              "    </tr>\n",
              "    <tr>\n",
              "      <th>44358</th>\n",
              "      <td>44359</td>\n",
              "      <td>Organic Small Bunch Celery</td>\n",
              "      <td>83</td>\n",
              "      <td>4</td>\n",
              "      <td>produce</td>\n",
              "    </tr>\n",
              "  </tbody>\n",
              "</table>\n",
              "</div>"
            ],
            "text/plain": [
              "       product_id                product_name  ...  department_id  department\n",
              "8276         8277    Apple Honeycrisp Organic  ...              4     produce\n",
              "30390       30391            Organic Cucumber  ...              4     produce\n",
              "47208       47209        Organic Hass Avocado  ...              4     produce\n",
              "10748       10749     Organic Red Bell Pepper  ...              4     produce\n",
              "8517         8518           Organic Red Onion  ...              4     produce\n",
              "5875         5876               Organic Lemon  ...              4     produce\n",
              "45065       45066            Honeycrisp Apple  ...              4     produce\n",
              "45006       45007            Organic Zucchini  ...              4     produce\n",
              "22934       22935        Organic Yellow Onion  ...              4     produce\n",
              "44358       44359  Organic Small Bunch Celery  ...              4     produce\n",
              "\n",
              "[10 rows x 5 columns]"
            ]
          },
          "metadata": {
            "tags": []
          },
          "execution_count": 49
        }
      ]
    },
    {
      "cell_type": "markdown",
      "metadata": {
        "id": "SLVZNZHoFoil"
      },
      "source": [
        "In the second example the the most similar items are lest intuitive and don't belong to the same department_id"
      ]
    },
    {
      "cell_type": "code",
      "metadata": {
        "colab": {
          "base_uri": "https://localhost:8080/",
          "height": 363
        },
        "id": "-Z-xeB2kOndi",
        "outputId": "6fec9303-be94-4864-9230-6806db3c6bdd"
      },
      "source": [
        "item_id = 49686\n",
        "similar_product = np.asarray(model_user_item.similar_items(item_id), dtype=int)\n",
        "\n",
        "products.loc[similar_product[:, 0] - 1, :]"
      ],
      "execution_count": 50,
      "outputs": [
        {
          "output_type": "execute_result",
          "data": {
            "text/html": [
              "<div>\n",
              "<style scoped>\n",
              "    .dataframe tbody tr th:only-of-type {\n",
              "        vertical-align: middle;\n",
              "    }\n",
              "\n",
              "    .dataframe tbody tr th {\n",
              "        vertical-align: top;\n",
              "    }\n",
              "\n",
              "    .dataframe thead th {\n",
              "        text-align: right;\n",
              "    }\n",
              "</style>\n",
              "<table border=\"1\" class=\"dataframe\">\n",
              "  <thead>\n",
              "    <tr style=\"text-align: right;\">\n",
              "      <th></th>\n",
              "      <th>product_id</th>\n",
              "      <th>product_name</th>\n",
              "      <th>aisle_id</th>\n",
              "      <th>department_id</th>\n",
              "      <th>department</th>\n",
              "    </tr>\n",
              "  </thead>\n",
              "  <tbody>\n",
              "    <tr>\n",
              "      <th>49685</th>\n",
              "      <td>49686</td>\n",
              "      <td>Artisan Baguette</td>\n",
              "      <td>112</td>\n",
              "      <td>3</td>\n",
              "      <td>bakery</td>\n",
              "    </tr>\n",
              "    <tr>\n",
              "      <th>35153</th>\n",
              "      <td>35154</td>\n",
              "      <td>Dried Northwest Mix Mushrooms</td>\n",
              "      <td>63</td>\n",
              "      <td>9</td>\n",
              "      <td>dry goods pasta</td>\n",
              "    </tr>\n",
              "    <tr>\n",
              "      <th>35478</th>\n",
              "      <td>35479</td>\n",
              "      <td>Oregon Strawberry Preserves</td>\n",
              "      <td>88</td>\n",
              "      <td>13</td>\n",
              "      <td>pantry</td>\n",
              "    </tr>\n",
              "    <tr>\n",
              "      <th>43611</th>\n",
              "      <td>43612</td>\n",
              "      <td>Herb Organic Oregano</td>\n",
              "      <td>16</td>\n",
              "      <td>4</td>\n",
              "      <td>produce</td>\n",
              "    </tr>\n",
              "    <tr>\n",
              "      <th>3659</th>\n",
              "      <td>3660</td>\n",
              "      <td>Tostones Plantain Patties</td>\n",
              "      <td>116</td>\n",
              "      <td>1</td>\n",
              "      <td>frozen</td>\n",
              "    </tr>\n",
              "    <tr>\n",
              "      <th>34512</th>\n",
              "      <td>34513</td>\n",
              "      <td>Organic Snapped Bean Medley</td>\n",
              "      <td>83</td>\n",
              "      <td>4</td>\n",
              "      <td>produce</td>\n",
              "    </tr>\n",
              "    <tr>\n",
              "      <th>2930</th>\n",
              "      <td>2931</td>\n",
              "      <td>Sushi Chef Panko Bread Flakes</td>\n",
              "      <td>66</td>\n",
              "      <td>6</td>\n",
              "      <td>international</td>\n",
              "    </tr>\n",
              "    <tr>\n",
              "      <th>33125</th>\n",
              "      <td>33126</td>\n",
              "      <td>Sesame Flatbread</td>\n",
              "      <td>112</td>\n",
              "      <td>3</td>\n",
              "      <td>bakery</td>\n",
              "    </tr>\n",
              "    <tr>\n",
              "      <th>47298</th>\n",
              "      <td>47299</td>\n",
              "      <td>Yellowfin Tuna Steak</td>\n",
              "      <td>39</td>\n",
              "      <td>12</td>\n",
              "      <td>meat seafood</td>\n",
              "    </tr>\n",
              "    <tr>\n",
              "      <th>3001</th>\n",
              "      <td>3002</td>\n",
              "      <td>Diced Celery &amp; Onions</td>\n",
              "      <td>123</td>\n",
              "      <td>4</td>\n",
              "      <td>produce</td>\n",
              "    </tr>\n",
              "  </tbody>\n",
              "</table>\n",
              "</div>"
            ],
            "text/plain": [
              "       product_id  ...       department\n",
              "49685       49686  ...           bakery\n",
              "35153       35154  ...  dry goods pasta\n",
              "35478       35479  ...           pantry\n",
              "43611       43612  ...          produce\n",
              "3659         3660  ...           frozen\n",
              "34512       34513  ...          produce\n",
              "2930         2931  ...    international\n",
              "33125       33126  ...           bakery\n",
              "47298       47299  ...     meat seafood\n",
              "3001         3002  ...          produce\n",
              "\n",
              "[10 rows x 5 columns]"
            ]
          },
          "metadata": {
            "tags": []
          },
          "execution_count": 50
        }
      ]
    },
    {
      "cell_type": "markdown",
      "metadata": {
        "id": "kizX145o84s6"
      },
      "source": [
        "# Visualization"
      ]
    },
    {
      "cell_type": "markdown",
      "metadata": {
        "id": "ze31fQC3Foim"
      },
      "source": [
        "The following chart show the similarity between product using the item latent factors of the model"
      ]
    },
    {
      "cell_type": "code",
      "metadata": {
        "id": "lZwHQOuzMO6h",
        "scrolled": true
      },
      "source": [
        "reducer = UMAP(n_neighbors=10, metric=\"cosine\", n_components=3)\n",
        "reduced_embedding = reducer.fit_transform(model_user_item.item_factors[1:,:])"
      ],
      "execution_count": 51,
      "outputs": []
    },
    {
      "cell_type": "code",
      "metadata": {
        "id": "7FpcFe06DPZ9",
        "scrolled": true
      },
      "source": [
        "fig = go.Figure(data=[go.Scatter3d(\n",
        "        x=reduced_embedding[:,0],\n",
        "        y=reduced_embedding[:,1],\n",
        "        z=reduced_embedding[:,2],\n",
        "        hovertext=products['product_name'],\n",
        "        mode='markers',\n",
        "        marker=dict(\n",
        "            size=3,\n",
        "            color=products['department_id'],                \n",
        "            opacity=1,\n",
        "            line_width=0.05\n",
        "        )\n",
        "    )])\n",
        "fig.update_layout(margin=dict(l=50,r=50,b=50,t=50),width=1000,height=700)\n",
        "fig.layout.template = 'plotly_white'\n",
        "fig.show()"
      ],
      "execution_count": null,
      "outputs": []
    },
    {
      "cell_type": "code",
      "metadata": {
        "scrolled": true,
        "id": "OhsfzTRuFoim"
      },
      "source": [
        "reducer = UMAP(n_neighbors=10, metric=\"cosine\", n_components=2)\n",
        "reduced_embedding = reducer.fit_transform(model_user_item.user_factors[1:,:])"
      ],
      "execution_count": 53,
      "outputs": []
    },
    {
      "cell_type": "code",
      "metadata": {
        "colab": {
          "base_uri": "https://localhost:8080/",
          "height": 623
        },
        "id": "z3kvGmlgFoim",
        "outputId": "83721439-a840-4a2f-9bd0-6735a3351071"
      },
      "source": [
        "f, ax = plt.subplots(figsize=[10,10])\n",
        "ax.scatter(reduced_embedding[:, 0], reduced_embedding[:, 1], s=0.1, alpha=0.1)\n",
        "ax.set(\n",
        "    #xlim=[-3,7],\n",
        "    #ylim=[-2, 12],\n",
        "    xlabel='user feature 1',\n",
        "    ylabel='user feature 2')"
      ],
      "execution_count": 58,
      "outputs": [
        {
          "output_type": "execute_result",
          "data": {
            "text/plain": [
              "[Text(0, 0.5, 'user feature 2'), Text(0.5, 0, 'user feature 1')]"
            ]
          },
          "metadata": {
            "tags": []
          },
          "execution_count": 58
        },
        {
          "output_type": "display_data",
          "data": {
            "image/png": "[encoded data removed]",
            "text/plain": [
              "<Figure size 720x720 with 1 Axes>"
            ]
          },
          "metadata": {
            "tags": [],
            "needs_background": "light"
          }
        }
      ]
    },
    {
      "cell_type": "code",
      "metadata": {
        "id": "6P0tnup8JkWU"
      },
      "source": [
        ""
      ],
      "execution_count": null,
      "outputs": []
    }
  ]
}